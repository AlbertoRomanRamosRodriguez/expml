{
  "cells": [
    {
      "attachments": {},
      "cell_type": "markdown",
      "metadata": {},
      "source": [
        "# Keras MiniVGGNet example on cifar10"
      ]
    },
    {
      "cell_type": "code",
      "execution_count": null,
      "metadata": {
        "colab": {
          "base_uri": "https://localhost:8080/"
        },
        "id": "0o-8sW8UXJnb",
        "outputId": "60996ff6-df1b-495b-c3e3-3d78e9e46f19"
      },
      "outputs": [],
      "source": [
        "!git clone https://github.com/AlbertoRomanRamosRodriguez/keras_example.git"
      ]
    },
    {
      "cell_type": "code",
      "execution_count": null,
      "metadata": {
        "id": "3u70pXYlXJFf"
      },
      "outputs": [],
      "source": [
        "import matplotlib\n",
        "matplotlib.use('Agg')\n",
        "\n",
        "from keras_example.nn.conv.minivggnet import MiniVGGNet\n",
        "from keras_example.callbacks.trainingmonitor import TrainingMonitor\n",
        "\n",
        "from sklearn.preprocessing import LabelBinarizer\n",
        "from sklearn.metrics import classification_report\n",
        "\n",
        "from tensorflow.keras import backend as K\n",
        "from tensorflow.keras.optimizers import SGD\n",
        "from tensorflow.keras.datasets import cifar10\n",
        "from tensorflow.keras.models import load_model\n",
        "\n",
        "import os\n",
        "import numpy as np\n",
        "import matplotlib.pyplot as plt"
      ]
    },
    {
      "cell_type": "code",
      "execution_count": null,
      "metadata": {
        "colab": {
          "base_uri": "https://localhost:8080/"
        },
        "id": "SnIOD8K4XJFh",
        "outputId": "7aabd926-7493-4f1d-ff0a-9d6a44fac12a"
      },
      "outputs": [],
      "source": [
        "print(\"[INFO] accessing MNIST...\")\n",
        "DATASET = 'cifar10'\n",
        "ARCHITECTURE = 'MiniVGGNet'\n",
        "\n",
        "((trainData, trainLabels),(testData, testLabels))=cifar10.load_data()\n",
        "\n",
        "trainData = trainData.astype(\"float32\") / 255.0\n",
        "testData = testData.astype(\"float32\") / 255.0\n",
        "\n",
        "le = LabelBinarizer()\n",
        "trainLabels = le.fit_transform(trainLabels)\n",
        "testLabels = le.transform(testLabels)\n",
        "\n",
        "labelNames = [\"airplane\", \"automobile\", \"bird\", \"cat\", \"deer\",\n",
        "\"dog\", \"frog\", \"horse\", \"ship\", \"truck\"]"
      ]
    },
    {
      "cell_type": "code",
      "execution_count": null,
      "metadata": {},
      "outputs": [],
      "source": [
        "from datetime import datetime\n",
        "\n",
        "date = datetime.today().strftime(\"%m_%d_%Y_%H_%M_%S\")\n",
        "figPath = f\"./monitoring/acc_loss_{date}.png\"\n",
        "jsonPath = f\"./monitoring/serialization_{date}.json\"\n",
        "callbacks = [TrainingMonitor(figPath, jsonPath)]"
      ]
    },
    {
      "cell_type": "code",
      "execution_count": null,
      "metadata": {
        "colab": {
          "base_uri": "https://localhost:8080/"
        },
        "id": "XO_5eJAzYwzv",
        "outputId": "a647dde3-13e4-4403-ea54-9a979eee5c07"
      },
      "outputs": [],
      "source": [
        "print(\"[INFO] compiling model...\")\n",
        "EPOCHS = 100\n",
        "LR = 0.01\n",
        "\n",
        "opt = SGD(lr=LR, momentum=0.9, nesterov=True)\n",
        "model = MiniVGGNet.build(width=32, height=32, depth=3, classes=len(labelNames))\n",
        "model.compile(loss=\"categorical_crossentropy\", optimizer=opt,\n",
        "metrics=[\"accuracy\"])\n",
        "\n",
        "# train the network\n",
        "print(\"[INFO] training network...\")\n",
        "H = model.fit(trainData, trainLabels,\n",
        "validation_data=(testData, testLabels), batch_size=64,\n",
        "epochs=EPOCHS, callbacks=callbacks,verbose=1)"
      ]
    },
    {
      "cell_type": "code",
      "execution_count": null,
      "metadata": {
        "id": "KysRYelPZSU6"
      },
      "outputs": [],
      "source": [
        "def evaluate_model(model_name:str):\n",
        "\n",
        "  model = load_model(f'./models/{model_name}')\n",
        "  print(f\"[INFO] evaluating {model_name}...\")\n",
        "  predictions = model.predict(testData, batch_size=32)\n",
        "  print(classification_report(testLabels.argmax(axis=1), \n",
        "    predictions.argmax(axis=1)))\n",
        "\n",
        "  plt.style.use('ggplot')\n",
        "  plt.figure()\n",
        "\n",
        "  plt.plot(np.arange(0,EPOCHS), H.history['loss'], label='train_loss')\n",
        "  plt.plot(np.arange(0,EPOCHS), H.history['val_loss'], label='val_loss')\n",
        "  plt.plot(np.arange(0,EPOCHS), H.history['accuracy'], label='train_acc')\n",
        "  plt.plot(np.arange(0,EPOCHS), H.history['val_accuracy'], label='val_acc')\n",
        "  plt.title(\"Training Loss and Accuracy\")\n",
        "  plt.xlabel(\"Epoch #\")\n",
        "  plt.xlabel(\"Loss/Accuracy\")\n",
        "  plt.legend()\n",
        "  plt.show()"
      ]
    },
    {
      "cell_type": "code",
      "execution_count": null,
      "metadata": {
        "id": "C0-FWTlIY9s9"
      },
      "outputs": [],
      "source": [
        "model.save(f\"./models/model_{DATASET}_{ARCHITECTURE}_{date}.hdf5\")"
      ]
    },
    {
      "cell_type": "code",
      "execution_count": null,
      "metadata": {
        "colab": {
          "base_uri": "https://localhost:8080/",
          "height": 629
        },
        "id": "kDAgkvvWZVbV",
        "outputId": "858106a8-17db-451a-de54-689905b9a824"
      },
      "outputs": [],
      "source": [
        "for m in os.listdir('./models/'):\n",
        "    evaluate_model(m)"
      ]
    }
  ],
  "metadata": {
    "accelerator": "GPU",
    "colab": {
      "provenance": []
    },
    "gpuClass": "standard",
    "kernelspec": {
      "display_name": "expmlenv",
      "language": "python",
      "name": "python3"
    },
    "language_info": {
      "codemirror_mode": {
        "name": "ipython",
        "version": 3
      },
      "file_extension": ".py",
      "mimetype": "text/x-python",
      "name": "python",
      "nbconvert_exporter": "python",
      "pygments_lexer": "ipython3",
      "version": "3.10.8 (main, Nov 24 2022, 14:13:03) [GCC 11.2.0]"
    },
    "orig_nbformat": 4,
    "vscode": {
      "interpreter": {
        "hash": "8e551f31eb65be6f81ef744b09e589319bc7597989a590509a727060f7a3aaf1"
      }
    }
  },
  "nbformat": 4,
  "nbformat_minor": 0
}
