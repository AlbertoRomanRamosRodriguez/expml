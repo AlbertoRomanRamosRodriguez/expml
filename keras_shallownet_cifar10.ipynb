{
  "cells": [
    {
      "cell_type": "markdown",
      "metadata": {
        "id": "ZtAdR0iZqVPs"
      },
      "source": [
        "# Keras Shallownet cifar10 example"
      ]
    },
    {
      "cell_type": "code",
      "execution_count": 1,
      "metadata": {
        "colab": {
          "base_uri": "https://localhost:8080/"
        },
        "id": "Un8m3fNtrOOU",
        "outputId": "ef910f7c-b6cc-47c4-acd1-c15b3b1f04c1"
      },
      "outputs": [
        {
          "name": "stdout",
          "output_type": "stream",
          "text": [
            "Cloning into 'keras_example'...\n",
            "remote: Enumerating objects: 29, done.\u001b[K\n",
            "remote: Counting objects: 100% (29/29), done.\u001b[K\n",
            "remote: Compressing objects: 100% (22/22), done.\u001b[K\n",
            "remote: Total 29 (delta 7), reused 28 (delta 6), pack-reused 0\u001b[K\n",
            "Unpacking objects: 100% (29/29), done.\n"
          ]
        }
      ],
      "source": [
        "!git clone https://github.com/AlbertoRomanRamosRodriguez/keras_example"
      ]
    },
    {
      "cell_type": "code",
      "execution_count": 2,
      "metadata": {
        "id": "D6XV0CdBqVPw"
      },
      "outputs": [],
      "source": [
        "from sklearn.preprocessing import LabelBinarizer\n",
        "from sklearn.model_selection import train_test_split\n",
        "from sklearn.metrics import classification_report\n",
        "\n",
        "from keras_example.preprocessing.imagetoarrayprocessor import ImageToArrayPreprocessor\n",
        "from keras_example.preprocessing.simplepreprocessor import SimpleProcessor\n",
        "from keras_example.datasets.simpledatasetloader import SimpleDatasetLoader\n",
        "from keras_example.nn.conv.shallownet import ShallowNet\n",
        "\n",
        "from tensorflow.keras.optimizers import SGD\n",
        "from tensorflow.keras.datasets import cifar10\n",
        "from tensorflow.keras.model import load_model\n",
        "\n",
        "from imutils import paths\n",
        "\n",
        "import matplotlib.pyplot as plt\n",
        "import numpy as np\n",
        "import os\n"
      ]
    },
    {
      "cell_type": "code",
      "execution_count": 3,
      "metadata": {
        "colab": {
          "base_uri": "https://localhost:8080/"
        },
        "id": "Y8G3WuAdqVPy",
        "outputId": "786e62bb-7f46-4710-8170-48905451764b"
      },
      "outputs": [
        {
          "name": "stdout",
          "output_type": "stream",
          "text": [
            "Downloading data from https://www.cs.toronto.edu/~kriz/cifar-10-python.tar.gz\n",
            "170498071/170498071 [==============================] - 6s 0us/step\n"
          ]
        }
      ],
      "source": [
        "((trainX, trainY),(testX, testY)) = cifar10.load_data()\n",
        "\n",
        "trainX = trainX.astype(\"float\") / 255.0\n",
        "testX = testX.astype(\"float\") / 255.0\n",
        "\n",
        "lb = LabelBinarizer()\n",
        "trainY = lb.fit_transform(trainY)\n",
        "testY = lb.transform(testY)\n",
        "\n",
        "labelNames = [\"airplane\", \"automobile\", \"bird\", \"cat\", \"deer\",\n",
        "\"dog\", \"frog\", \"horse\", \"ship\", \"truck\"]"
      ]
    },
    {
      "cell_type": "code",
      "execution_count": 9,
      "metadata": {
        "colab": {
          "base_uri": "https://localhost:8080/",
          "height": 1000
        },
        "id": "JoiwXoAStPgs",
        "outputId": "342e4b0f-bd55-4830-a43e-582ba3a3c277"
      },
      "outputs": [
        {
          "name": "stdout",
          "output_type": "stream",
          "text": [
            "[INFO] compiling model\n",
            "[INFO] training network\n"
          ]
        },
        {
          "name": "stderr",
          "output_type": "stream",
          "text": [
            "/usr/local/lib/python3.8/dist-packages/keras/optimizers/optimizer_v2/gradient_descent.py:108: UserWarning: The `lr` argument is deprecated, use `learning_rate` instead.\n",
            "  super(SGD, self).__init__(name, **kwargs)\n"
          ]
        },
        {
          "name": "stdout",
          "output_type": "stream",
          "text": [
            "Epoch 1/40\n",
            "1563/1563 [==============================] - 7s 4ms/step - loss: 2.0143 - accuracy: 0.2893 - val_loss: 1.9053 - val_accuracy: 0.3316\n",
            "Epoch 2/40\n",
            "1563/1563 [==============================] - 6s 4ms/step - loss: 1.8687 - accuracy: 0.3532 - val_loss: 1.8543 - val_accuracy: 0.3520\n",
            "Epoch 3/40\n",
            "1563/1563 [==============================] - 6s 4ms/step - loss: 1.8220 - accuracy: 0.3695 - val_loss: 1.8181 - val_accuracy: 0.3663\n",
            "Epoch 4/40\n",
            "1563/1563 [==============================] - 7s 4ms/step - loss: 1.7919 - accuracy: 0.3796 - val_loss: 1.7911 - val_accuracy: 0.3766\n",
            "Epoch 5/40\n",
            "1563/1563 [==============================] - 7s 4ms/step - loss: 1.7725 - accuracy: 0.3882 - val_loss: 1.7624 - val_accuracy: 0.3902\n",
            "Epoch 6/40\n",
            "1563/1563 [==============================] - 6s 4ms/step - loss: 1.7571 - accuracy: 0.3972 - val_loss: 1.7576 - val_accuracy: 0.3917\n",
            "Epoch 7/40\n",
            "1563/1563 [==============================] - 6s 4ms/step - loss: 1.7448 - accuracy: 0.4000 - val_loss: 1.7399 - val_accuracy: 0.3985\n",
            "Epoch 8/40\n",
            "1563/1563 [==============================] - 6s 4ms/step - loss: 1.7350 - accuracy: 0.4053 - val_loss: 1.7353 - val_accuracy: 0.4023\n",
            "Epoch 9/40\n",
            "1563/1563 [==============================] - 6s 4ms/step - loss: 1.7262 - accuracy: 0.4082 - val_loss: 1.7268 - val_accuracy: 0.4027\n",
            "Epoch 10/40\n",
            "1563/1563 [==============================] - 6s 4ms/step - loss: 1.7192 - accuracy: 0.4121 - val_loss: 1.7235 - val_accuracy: 0.4044\n",
            "Epoch 11/40\n",
            "1563/1563 [==============================] - 6s 4ms/step - loss: 1.7136 - accuracy: 0.4137 - val_loss: 1.7177 - val_accuracy: 0.4053\n",
            "Epoch 12/40\n",
            "1563/1563 [==============================] - 6s 4ms/step - loss: 1.7076 - accuracy: 0.4164 - val_loss: 1.7176 - val_accuracy: 0.4037\n",
            "Epoch 13/40\n",
            "1563/1563 [==============================] - 6s 4ms/step - loss: 1.7028 - accuracy: 0.4196 - val_loss: 1.7146 - val_accuracy: 0.4077\n",
            "Epoch 14/40\n",
            "1563/1563 [==============================] - 6s 4ms/step - loss: 1.6983 - accuracy: 0.4221 - val_loss: 1.7115 - val_accuracy: 0.4099\n",
            "Epoch 15/40\n",
            "1563/1563 [==============================] - 6s 4ms/step - loss: 1.6952 - accuracy: 0.4225 - val_loss: 1.7086 - val_accuracy: 0.4155\n",
            "Epoch 16/40\n",
            "1563/1563 [==============================] - 6s 4ms/step - loss: 1.6910 - accuracy: 0.4245 - val_loss: 1.7058 - val_accuracy: 0.4120\n",
            "Epoch 17/40\n",
            "1563/1563 [==============================] - 6s 4ms/step - loss: 1.6884 - accuracy: 0.4262 - val_loss: 1.7037 - val_accuracy: 0.4164\n",
            "Epoch 18/40\n",
            "1563/1563 [==============================] - 6s 4ms/step - loss: 1.6853 - accuracy: 0.4268 - val_loss: 1.7065 - val_accuracy: 0.4153\n",
            "Epoch 19/40\n",
            "1563/1563 [==============================] - 6s 4ms/step - loss: 1.6830 - accuracy: 0.4277 - val_loss: 1.6997 - val_accuracy: 0.4146\n",
            "Epoch 20/40\n",
            "1563/1563 [==============================] - 6s 4ms/step - loss: 1.6805 - accuracy: 0.4302 - val_loss: 1.6999 - val_accuracy: 0.4142\n",
            "Epoch 21/40\n",
            "1563/1563 [==============================] - 6s 4ms/step - loss: 1.6778 - accuracy: 0.4305 - val_loss: 1.7007 - val_accuracy: 0.4174\n",
            "Epoch 22/40\n",
            "1563/1563 [==============================] - 8s 5ms/step - loss: 1.6759 - accuracy: 0.4320 - val_loss: 1.6981 - val_accuracy: 0.4155\n",
            "Epoch 23/40\n",
            "1563/1563 [==============================] - 6s 4ms/step - loss: 1.6734 - accuracy: 0.4321 - val_loss: 1.7059 - val_accuracy: 0.4098\n",
            "Epoch 24/40\n",
            "1563/1563 [==============================] - 6s 4ms/step - loss: 1.6719 - accuracy: 0.4337 - val_loss: 1.6995 - val_accuracy: 0.4134\n",
            "Epoch 25/40\n",
            "1563/1563 [==============================] - 6s 4ms/step - loss: 1.6704 - accuracy: 0.4330 - val_loss: 1.6958 - val_accuracy: 0.4179\n",
            "Epoch 26/40\n",
            "1563/1563 [==============================] - 6s 4ms/step - loss: 1.6683 - accuracy: 0.4345 - val_loss: 1.6975 - val_accuracy: 0.4156\n",
            "Epoch 27/40\n",
            "1563/1563 [==============================] - 6s 4ms/step - loss: 1.6663 - accuracy: 0.4363 - val_loss: 1.6994 - val_accuracy: 0.4158\n",
            "Epoch 28/40\n",
            "1563/1563 [==============================] - 6s 4ms/step - loss: 1.6648 - accuracy: 0.4358 - val_loss: 1.6958 - val_accuracy: 0.4188\n",
            "Epoch 29/40\n",
            "1563/1563 [==============================] - 6s 4ms/step - loss: 1.6632 - accuracy: 0.4370 - val_loss: 1.6956 - val_accuracy: 0.4169\n",
            "Epoch 30/40\n",
            "1563/1563 [==============================] - 6s 4ms/step - loss: 1.6620 - accuracy: 0.4373 - val_loss: 1.7029 - val_accuracy: 0.4142\n",
            "Epoch 31/40\n",
            "1563/1563 [==============================] - 6s 4ms/step - loss: 1.6607 - accuracy: 0.4381 - val_loss: 1.6975 - val_accuracy: 0.4197\n",
            "Epoch 32/40\n",
            "1563/1563 [==============================] - 6s 4ms/step - loss: 1.6595 - accuracy: 0.4387 - val_loss: 1.6970 - val_accuracy: 0.4169\n",
            "Epoch 33/40\n",
            "1563/1563 [==============================] - 6s 4ms/step - loss: 1.6580 - accuracy: 0.4387 - val_loss: 1.6977 - val_accuracy: 0.4160\n",
            "Epoch 34/40\n",
            "1563/1563 [==============================] - 6s 4ms/step - loss: 1.6566 - accuracy: 0.4407 - val_loss: 1.6968 - val_accuracy: 0.4164\n",
            "Epoch 35/40\n",
            "1563/1563 [==============================] - 6s 4ms/step - loss: 1.6555 - accuracy: 0.4398 - val_loss: 1.6967 - val_accuracy: 0.4171\n",
            "Epoch 36/40\n",
            "1563/1563 [==============================] - 6s 4ms/step - loss: 1.6545 - accuracy: 0.4409 - val_loss: 1.6956 - val_accuracy: 0.4161\n",
            "Epoch 37/40\n",
            "1563/1563 [==============================] - 6s 4ms/step - loss: 1.6534 - accuracy: 0.4417 - val_loss: 1.6968 - val_accuracy: 0.4180\n",
            "Epoch 38/40\n",
            "1563/1563 [==============================] - 6s 4ms/step - loss: 1.6522 - accuracy: 0.4414 - val_loss: 1.7003 - val_accuracy: 0.4139\n",
            "Epoch 39/40\n",
            "1563/1563 [==============================] - 6s 4ms/step - loss: 1.6511 - accuracy: 0.4418 - val_loss: 1.6977 - val_accuracy: 0.4141\n",
            "Epoch 40/40\n",
            "1563/1563 [==============================] - 6s 4ms/step - loss: 1.6501 - accuracy: 0.4425 - val_loss: 1.7034 - val_accuracy: 0.4106\n",
            "[INFO] evaluating network...\n",
            "313/313 [==============================] - 1s 2ms/step\n",
            "              precision    recall  f1-score   support\n",
            "\n",
            "    airplane       0.42      0.55      0.47      1000\n",
            "  automobile       0.42      0.54      0.47      1000\n",
            "        bird       0.33      0.31      0.32      1000\n",
            "         cat       0.28      0.35      0.31      1000\n",
            "        deer       0.42      0.28      0.33      1000\n",
            "         dog       0.35      0.35      0.35      1000\n",
            "        frog       0.45      0.39      0.42      1000\n",
            "       horse       0.53      0.42      0.47      1000\n",
            "        ship       0.54      0.46      0.50      1000\n",
            "       truck       0.44      0.47      0.45      1000\n",
            "\n",
            "    accuracy                           0.41     10000\n",
            "   macro avg       0.42      0.41      0.41     10000\n",
            "weighted avg       0.42      0.41      0.41     10000\n",
            "\n"
          ]
        },
        {
          "data": {
            "image/png": "[encoded data removed]",
            "text/plain": [
              "<Figure size 432x288 with 1 Axes>"
            ]
          },
          "metadata": {},
          "output_type": "display_data"
        }
      ],
      "source": [
        "print(\"[INFO] compiling model\")\n",
        "opt = SGD(lr=0.001)\n",
        "model = ShallowNet.build(width = 32, height = 32, depth = 3, classes = len(labelNames))\n",
        "model.compile(loss = \"categorical_crossentropy\", optimizer=opt, metrics=['accuracy'])\n",
        "\n",
        "print(\"[INFO] training network\")\n",
        "H = model.fit(trainX, trainY, validation_data=(testX, testY), batch_size=32, epochs=40,verbose=1)\n",
        "\n"
      ]
    },
    {
      "cell_type": "code",
      "execution_count": 21,
      "metadata": {},
      "outputs": [
        {
          "data": {
            "text/plain": [
              "'01_10_2023_12_59_35'"
            ]
          },
          "execution_count": 21,
          "metadata": {},
          "output_type": "execute_result"
        }
      ],
      "source": [
        "from datetime import datetime\n",
        "\n",
        "date = datetime.today().strftime(\"%m_%d_%Y_%H_%M_%S\")\n",
        "\n",
        "model.save(f\"./models/model_cifar10_{date}\")"
      ]
    },
    {
      "cell_type": "code",
      "execution_count": 10,
      "metadata": {
        "colab": {
          "base_uri": "https://localhost:8080/",
          "height": 629
        },
        "id": "1fwwHdqjwGGM",
        "outputId": "4f1e2807-e36b-4b22-8c80-a9eaf33de622"
      },
      "outputs": [
        {
          "name": "stdout",
          "output_type": "stream",
          "text": [
            "[INFO] evaluating network...\n",
            "313/313 [==============================] - 1s 2ms/step\n",
            "              precision    recall  f1-score   support\n",
            "\n",
            "    airplane       0.42      0.55      0.47      1000\n",
            "  automobile       0.42      0.54      0.47      1000\n",
            "        bird       0.33      0.31      0.32      1000\n",
            "         cat       0.28      0.35      0.31      1000\n",
            "        deer       0.42      0.28      0.33      1000\n",
            "         dog       0.35      0.35      0.35      1000\n",
            "        frog       0.45      0.39      0.42      1000\n",
            "       horse       0.53      0.42      0.47      1000\n",
            "        ship       0.54      0.46      0.50      1000\n",
            "       truck       0.44      0.47      0.45      1000\n",
            "\n",
            "    accuracy                           0.41     10000\n",
            "   macro avg       0.42      0.41      0.41     10000\n",
            "weighted avg       0.42      0.41      0.41     10000\n",
            "\n"
          ]
        },
        {
          "data": {
            "image/png": "[encoded data removed]",
            "text/plain": [
              "<Figure size 432x288 with 1 Axes>"
            ]
          },
          "metadata": {},
          "output_type": "display_data"
        }
      ],
      "source": [
        "def evaluate_model(model_name:str):\n",
        "\n",
        "  model = load_model(f'./models/{model_name}')\n",
        "  print(f\"[INFO] evaluating {model_name}...\")\n",
        "  predictions = model.predict(testX, batch_size=32)\n",
        "  print(classification_report(testY.argmax(axis=1), \n",
        "    predictions.argmax(axis=1), target_names=labelNames))\n",
        "\n",
        "  plt.style.use('ggplot')\n",
        "  plt.figure()\n",
        "\n",
        "  plt.plot(np.arange(0,40), H.history['loss'], label='train_loss')\n",
        "  plt.plot(np.arange(0,40), H.history['val_loss'], label='val_loss')\n",
        "  plt.plot(np.arange(0,40), H.history['accuracy'], label='train_acc')\n",
        "  plt.plot(np.arange(0,40), H.history['val_accuracy'], label='val_acc')\n",
        "  plt.title(\"Training Loss and Accuracy\")\n",
        "  plt.xlabel(\"Epoch #\")\n",
        "  plt.xlabel(\"Loss/Accuracy\")\n",
        "  plt.legend()\n",
        "  plt.show()"
      ]
    },
    {
      "cell_type": "code",
      "execution_count": null,
      "metadata": {},
      "outputs": [],
      "source": [
        "(evaluate_model(m) for m in os.listdir('./models/'))"
      ]
    }
  ],
  "metadata": {
    "accelerator": "GPU",
    "colab": {
      "provenance": []
    },
    "gpuClass": "standard",
    "kernelspec": {
      "display_name": "expmlenv",
      "language": "python",
      "name": "python3"
    },
    "language_info": {
      "codemirror_mode": {
        "name": "ipython",
        "version": 3
      },
      "file_extension": ".py",
      "mimetype": "text/x-python",
      "name": "python",
      "nbconvert_exporter": "python",
      "pygments_lexer": "ipython3",
      "version": "3.10.8"
    },
    "orig_nbformat": 4,
    "vscode": {
      "interpreter": {
        "hash": "8e551f31eb65be6f81ef744b09e589319bc7597989a590509a727060f7a3aaf1"
      }
    }
  },
  "nbformat": 4,
  "nbformat_minor": 0
}
