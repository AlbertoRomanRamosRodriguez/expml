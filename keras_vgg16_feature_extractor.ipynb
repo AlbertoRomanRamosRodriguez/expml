{
 "cells": [
  {
   "attachments": {},
   "cell_type": "markdown",
   "metadata": {},
   "source": [
    "# Keras VGG16 feature extractor"
   ]
  },
  {
   "cell_type": "code",
   "execution_count": null,
   "metadata": {},
   "outputs": [],
   "source": [
    "from tensorflow.keras.applications import VGG16\n",
    "from tensorflow.keras.applications import imagenet_utils\n",
    "from tensorflow.keras.preprocessing.image import img_to_array\n",
    "from tensorflow.keras.preprocessing.image import load_img\n",
    "from sklearn.preprocessing import LabelEncoder\n",
    "from pyimagesearch.io import HDF5DatasetWriter\n",
    "from imutils import paths\n",
    "import numpy as np\n",
    "import progressbar\n",
    "import argparse\n",
    "import random\n",
    "import os"
   ]
  },
  {
   "cell_type": "code",
   "execution_count": null,
   "metadata": {},
   "outputs": [],
   "source": [
    "ap = argparse.ArgumentParser()\n",
    "\n",
    "DATASET_PATH = ''\n",
    "OUTPUT_PATH = ''\n",
    "BUFFER_SIZE = 1000\n",
    "BATCH_SIZE = 32\n"
   ]
  },
  {
   "cell_type": "code",
   "execution_count": null,
   "metadata": {},
   "outputs": [],
   "source": [
    "print(\"[INFO] loading images...\")\n",
    "imagePaths = list(paths.list_images(DATASET_PATH))\n",
    "random.shuffle(imagePaths)\n",
    "\n",
    "labels = [p.split(os.path.sep)[-2] for p in imagePaths]\n",
    "le = LabelEncoder()\n",
    "labels = le.fit_transform(labels)\n",
    "\n",
    "print(\"[INFO] loading network...\")\n",
    "model = VGG16(weights='imagenet', include_top=False)\n",
    "\n",
    "dataset = HDF5DatasetWriter(\n",
    "    (\n",
    "        len(imagePaths),\n",
    "        512*7*7\n",
    "    ), OUTPUT_PATH,\n",
    "    dataKey = \"features\",\n",
    "    bufSize = BUFFER_SIZE\n",
    ")\n",
    "\n",
    "dataset.storeClassLabels(le.classes_)\n",
    "\n",
    "widgets = [\n",
    "    \"Extracting Features: \",\n",
    "    progressbar.Percentage(),\" \",\n",
    "    progressbar.Bar(), \" \",\n",
    "    progressbar.ETA(), \" \"\n",
    "]\n",
    "\n",
    "pbar = progressbar.ProgressBar(\n",
    "    maxval = len(imagePaths),\n",
    "    widgets=widgets,\n",
    ").start()\n",
    "\n",
    "for i in np.arange(0, len(imagePaths), BATCH_SIZE):\n",
    "    batchPaths = imagePaths[i:i + BATCH_SIZE]\n",
    "    batchLabels = labels[i:i+BATCH_SIZE]\n",
    "    batchImages = []\n",
    "\n",
    "    for (j, imPath) in enumerate(batchPaths):\n",
    "        image = load_img(imPath, target_size = (224,224))\n",
    "        image = img_to_array(image)\n",
    "\n",
    "        image = np.expand_dims(image, axis=0)\n",
    "        image = imagenet_utils.preprocess_input(image)\n",
    "\n",
    "        batchImages.append(image)\n",
    "\n",
    "    batchImages = np.vstack(batchImages)\n",
    "    \n",
    "    features = model.predict(batchImages, batch_size=BATCH_SIZE)\n",
    "    features = features.reshape((features.shape[0], 512*7*7))\n",
    "\n",
    "    dataset.add(features, batchLabels)\n",
    "    pbar.update(i)\n",
    "\n",
    "dataset.close()\n",
    "pbar.finish()"
   ]
  }
 ],
 "metadata": {
  "kernelspec": {
   "display_name": "expmlenv",
   "language": "python",
   "name": "python3"
  },
  "language_info": {
   "name": "python",
   "version": "3.10.8 (main, Nov 24 2022, 14:13:03) [GCC 11.2.0]"
  },
  "orig_nbformat": 4,
  "vscode": {
   "interpreter": {
    "hash": "8e551f31eb65be6f81ef744b09e589319bc7597989a590509a727060f7a3aaf1"
   }
  }
 },
 "nbformat": 4,
 "nbformat_minor": 2
}
