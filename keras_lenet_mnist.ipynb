{
  "cells": [
    {
      "cell_type": "code",
      "execution_count": 1,
      "metadata": {
        "colab": {
          "base_uri": "https://localhost:8080/"
        },
        "id": "0o-8sW8UXJnb",
        "outputId": "60996ff6-df1b-495b-c3e3-3d78e9e46f19"
      },
      "outputs": [
        {
          "name": "stdout",
          "output_type": "stream",
          "text": [
            "Cloning into 'keras_example'...\n",
            "remote: Enumerating objects: 35, done.\u001b[K\n",
            "remote: Counting objects: 100% (35/35), done.\u001b[K\n",
            "remote: Compressing objects: 100% (25/25), done.\u001b[K\n",
            "remote: Total 35 (delta 10), reused 33 (delta 8), pack-reused 0\u001b[K\n",
            "Unpacking objects: 100% (35/35), done.\n"
          ]
        }
      ],
      "source": [
        "!git clone https://github.com/AlbertoRomanRamosRodriguez/keras_example.git"
      ]
    },
    {
      "cell_type": "code",
      "execution_count": 2,
      "metadata": {
        "id": "3u70pXYlXJFf"
      },
      "outputs": [],
      "source": [
        "from keras_example.nn.conv.lenet import LeNet\n",
        "\n",
        "from sklearn.preprocessing import LabelBinarizer\n",
        "from sklearn.metrics import classification_report\n",
        "\n",
        "from tensorflow.keras import backend as K\n",
        "from tensorflow.keras.optimizers import SGD\n",
        "from tensorflow.keras.datasets import mnist\n",
        "from tensorflow.keras.models import load_model\n",
        "\n",
        "import os\n",
        "import numpy as np\n",
        "import matplotlib.pyplot as plt"
      ]
    },
    {
      "cell_type": "code",
      "execution_count": 3,
      "metadata": {
        "colab": {
          "base_uri": "https://localhost:8080/"
        },
        "id": "SnIOD8K4XJFh",
        "outputId": "7aabd926-7493-4f1d-ff0a-9d6a44fac12a"
      },
      "outputs": [
        {
          "name": "stdout",
          "output_type": "stream",
          "text": [
            "[INFO] accessing MNIST...\n",
            "Downloading data from https://storage.googleapis.com/tensorflow/tf-keras-datasets/mnist.npz\n",
            "11490434/11490434 [==============================] - 0s 0us/step\n"
          ]
        }
      ],
      "source": [
        "print(\"[INFO] accessing MNIST...\")\n",
        "((trainData, trainLabels),(testData, testLabels))=mnist.load_data()\n",
        "\n",
        "if K.image_data_format() == 'channels_first':\n",
        "  trainData = trainData.reshape((trainData.shape[0],1,28,28))\n",
        "  testData = testData.reshape((testData.shape[0],1,28,28))\n",
        "else:\n",
        "  trainData = trainData.reshape((trainData.shape[0],28,28,1))\n",
        "  testData = testData.reshape((testData.shape[0],28,28,1))\n",
        "\n",
        "trainData = trainData.astype(\"float32\") / 255.0\n",
        "testData = testData.astype(\"float32\") / 255.0\n",
        "\n",
        "le = LabelBinarizer()\n",
        "trainLabels = le.fit_transform(trainLabels)\n",
        "testLabels = le.transform(testLabels)"
      ]
    },
    {
      "cell_type": "code",
      "execution_count": 4,
      "metadata": {
        "id": "KysRYelPZSU6"
      },
      "outputs": [],
      "source": [
        "def evaluate_model(model_name:str):\n",
        "\n",
        "  model = load_model(f'./models/{model_name}')\n",
        "  print(f\"[INFO] evaluating {model_name}...\")\n",
        "  predictions = model.predict(testData, batch_size=32)\n",
        "  print(classification_report(testLabels.argmax(axis=1), \n",
        "    predictions.argmax(axis=1)))\n",
        "\n",
        "  plt.style.use('ggplot')\n",
        "  plt.figure()\n",
        "\n",
        "  plt.plot(np.arange(0,EPOCHS), H.history['loss'], label='train_loss')\n",
        "  plt.plot(np.arange(0,EPOCHS), H.history['val_loss'], label='val_loss')\n",
        "  plt.plot(np.arange(0,EPOCHS), H.history['accuracy'], label='train_acc')\n",
        "  plt.plot(np.arange(0,EPOCHS), H.history['val_accuracy'], label='val_acc')\n",
        "  plt.title(\"Training Loss and Accuracy\")\n",
        "  plt.xlabel(\"Epoch #\")\n",
        "  plt.xlabel(\"Loss/Accuracy\")\n",
        "  plt.legend()\n",
        "  plt.show()"
      ]
    },
    {
      "cell_type": "code",
      "execution_count": 5,
      "metadata": {
        "colab": {
          "base_uri": "https://localhost:8080/"
        },
        "id": "XO_5eJAzYwzv",
        "outputId": "a647dde3-13e4-4403-ea54-9a979eee5c07"
      },
      "outputs": [
        {
          "name": "stdout",
          "output_type": "stream",
          "text": [
            "[INFO] compiling model...\n"
          ]
        },
        {
          "name": "stderr",
          "output_type": "stream",
          "text": [
            "/usr/local/lib/python3.8/dist-packages/keras/optimizers/optimizer_v2/gradient_descent.py:108: UserWarning: The `lr` argument is deprecated, use `learning_rate` instead.\n",
            "  super(SGD, self).__init__(name, **kwargs)\n"
          ]
        },
        {
          "name": "stdout",
          "output_type": "stream",
          "text": [
            "[INFO] training network...\n",
            "Epoch 1/20\n",
            "469/469 [==============================] - 14s 7ms/step - loss: 0.2978 - accuracy: 0.9114 - val_loss: 0.1182 - val_accuracy: 0.9633\n",
            "Epoch 2/20\n",
            "469/469 [==============================] - 3s 6ms/step - loss: 0.1053 - accuracy: 0.9673 - val_loss: 0.0850 - val_accuracy: 0.9743\n",
            "Epoch 3/20\n",
            "469/469 [==============================] - 3s 6ms/step - loss: 0.0742 - accuracy: 0.9772 - val_loss: 0.0698 - val_accuracy: 0.9788\n",
            "Epoch 4/20\n",
            "469/469 [==============================] - 3s 6ms/step - loss: 0.0575 - accuracy: 0.9822 - val_loss: 0.0686 - val_accuracy: 0.9780\n",
            "Epoch 5/20\n",
            "469/469 [==============================] - 3s 6ms/step - loss: 0.0471 - accuracy: 0.9855 - val_loss: 0.0590 - val_accuracy: 0.9811\n",
            "Epoch 6/20\n",
            "469/469 [==============================] - 3s 6ms/step - loss: 0.0388 - accuracy: 0.9877 - val_loss: 0.0509 - val_accuracy: 0.9830\n",
            "Epoch 7/20\n",
            "469/469 [==============================] - 3s 6ms/step - loss: 0.0323 - accuracy: 0.9897 - val_loss: 0.0556 - val_accuracy: 0.9826\n",
            "Epoch 8/20\n",
            "469/469 [==============================] - 3s 6ms/step - loss: 0.0274 - accuracy: 0.9915 - val_loss: 0.0441 - val_accuracy: 0.9855\n",
            "Epoch 9/20\n",
            "469/469 [==============================] - 3s 6ms/step - loss: 0.0228 - accuracy: 0.9929 - val_loss: 0.0501 - val_accuracy: 0.9853\n",
            "Epoch 10/20\n",
            "469/469 [==============================] - 3s 6ms/step - loss: 0.0189 - accuracy: 0.9943 - val_loss: 0.0462 - val_accuracy: 0.9857\n",
            "Epoch 11/20\n",
            "469/469 [==============================] - 3s 6ms/step - loss: 0.0171 - accuracy: 0.9948 - val_loss: 0.0498 - val_accuracy: 0.9827\n",
            "Epoch 12/20\n",
            "469/469 [==============================] - 3s 6ms/step - loss: 0.0142 - accuracy: 0.9959 - val_loss: 0.0400 - val_accuracy: 0.9879\n",
            "Epoch 13/20\n",
            "469/469 [==============================] - 3s 6ms/step - loss: 0.0127 - accuracy: 0.9965 - val_loss: 0.0434 - val_accuracy: 0.9876\n",
            "Epoch 14/20\n",
            "469/469 [==============================] - 3s 6ms/step - loss: 0.0101 - accuracy: 0.9972 - val_loss: 0.0481 - val_accuracy: 0.9869\n",
            "Epoch 15/20\n",
            "469/469 [==============================] - 3s 6ms/step - loss: 0.0099 - accuracy: 0.9973 - val_loss: 0.0474 - val_accuracy: 0.9858\n",
            "Epoch 16/20\n",
            "469/469 [==============================] - 4s 8ms/step - loss: 0.0076 - accuracy: 0.9981 - val_loss: 0.0461 - val_accuracy: 0.9855\n",
            "Epoch 17/20\n",
            "469/469 [==============================] - 3s 7ms/step - loss: 0.0067 - accuracy: 0.9985 - val_loss: 0.0481 - val_accuracy: 0.9858\n",
            "Epoch 18/20\n",
            "469/469 [==============================] - 3s 6ms/step - loss: 0.0057 - accuracy: 0.9986 - val_loss: 0.0452 - val_accuracy: 0.9871\n",
            "Epoch 19/20\n",
            "469/469 [==============================] - 3s 6ms/step - loss: 0.0050 - accuracy: 0.9988 - val_loss: 0.0475 - val_accuracy: 0.9867\n",
            "Epoch 20/20\n",
            "469/469 [==============================] - 3s 6ms/step - loss: 0.0039 - accuracy: 0.9992 - val_loss: 0.0453 - val_accuracy: 0.9872\n"
          ]
        }
      ],
      "source": [
        "print(\"[INFO] compiling model...\")\n",
        "opt = SGD(lr=0.05)\n",
        "model = LeNet.build(width=28, height=28, depth=1, classes=10)\n",
        "model.compile(loss=\"categorical_crossentropy\", optimizer=opt,\n",
        "metrics=[\"accuracy\"])\n",
        "EPOCHS = 20\n",
        "\n",
        "# train the network\n",
        "print(\"[INFO] training network...\")\n",
        "H = model.fit(trainData, trainLabels,\n",
        "validation_data=(testData, testLabels), batch_size=128,\n",
        "epochs=EPOCHS, verbose=1)"
      ]
    },
    {
      "cell_type": "code",
      "execution_count": 6,
      "metadata": {
        "id": "C0-FWTlIY9s9"
      },
      "outputs": [],
      "source": [
        "from datetime import datetime\n",
        "\n",
        "date = datetime.today().strftime(\"%m_%d_%Y_%H_%M_%S\")\n",
        "\n",
        "model.save(f\"./models/model_mnist_lenet_{date}.hdf5\")"
      ]
    },
    {
      "cell_type": "code",
      "execution_count": 7,
      "metadata": {
        "colab": {
          "base_uri": "https://localhost:8080/",
          "height": 629
        },
        "id": "kDAgkvvWZVbV",
        "outputId": "858106a8-17db-451a-de54-689905b9a824"
      },
      "outputs": [
        {
          "name": "stdout",
          "output_type": "stream",
          "text": [
            "[INFO] evaluating model_mnist_lenet_01_10_2023_20_50_12.hdf5...\n",
            "313/313 [==============================] - 1s 2ms/step\n",
            "              precision    recall  f1-score   support\n",
            "\n",
            "           0       0.98      0.99      0.99       980\n",
            "           1       0.99      1.00      0.99      1135\n",
            "           2       0.98      0.99      0.99      1032\n",
            "           3       0.98      0.99      0.99      1010\n",
            "           4       0.99      0.99      0.99       982\n",
            "           5       0.99      0.99      0.99       892\n",
            "           6       0.99      0.98      0.99       958\n",
            "           7       0.99      0.98      0.98      1028\n",
            "           8       0.98      0.99      0.98       974\n",
            "           9       0.99      0.98      0.98      1009\n",
            "\n",
            "    accuracy                           0.99     10000\n",
            "   macro avg       0.99      0.99      0.99     10000\n",
            "weighted avg       0.99      0.99      0.99     10000\n",
            "\n"
          ]
        },
        {
          "data": {
            "image/png": "[encoded data removed]",
            "text/plain": [
              "<Figure size 432x288 with 1 Axes>"
            ]
          },
          "metadata": {},
          "output_type": "display_data"
        }
      ],
      "source": [
        "for m in os.listdir('./models/'):\n",
        "    evaluate_model(m)"
      ]
    }
  ],
  "metadata": {
    "accelerator": "GPU",
    "colab": {
      "provenance": []
    },
    "gpuClass": "standard",
    "kernelspec": {
      "display_name": "expmlenv",
      "language": "python",
      "name": "python3"
    },
    "language_info": {
      "codemirror_mode": {
        "name": "ipython",
        "version": 3
      },
      "file_extension": ".py",
      "mimetype": "text/x-python",
      "name": "python",
      "nbconvert_exporter": "python",
      "pygments_lexer": "ipython3",
      "version": "3.10.8 (main, Nov 24 2022, 14:13:03) [GCC 11.2.0]"
    },
    "orig_nbformat": 4,
    "vscode": {
      "interpreter": {
        "hash": "8e551f31eb65be6f81ef744b09e589319bc7597989a590509a727060f7a3aaf1"
      }
    }
  },
  "nbformat": 4,
  "nbformat_minor": 0
}
