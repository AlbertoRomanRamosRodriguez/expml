{
 "cells": [
  {
   "attachments": {},
   "cell_type": "markdown",
   "metadata": {},
   "source": [
    "# Building the HDF5 dataset"
   ]
  },
  {
   "cell_type": "code",
   "execution_count": null,
   "metadata": {},
   "outputs": [],
   "source": [
    "from config import dogs_vs_cats_config as config\n",
    "\n",
    "from sklearn.preprocessing import LabelEncoder\n",
    "from sklearn.model_selection import train_test_split\n",
    "\n",
    "from keras_example.preprocessing.aspectawareprocessor import AspectAwareProcessor\n",
    "from keras_example import HDF5DatasetWriter\n",
    "\n",
    "from imutils import paths\n",
    "\n",
    "import numpy as np\n",
    "import progressbar\n",
    "import json\n",
    "import cv2\n",
    "import os"
   ]
  },
  {
   "cell_type": "code",
   "execution_count": null,
   "metadata": {},
   "outputs": [],
   "source": [
    "trainPaths = list(paths.list_images(config.IMAGES_PATH))\n",
    "trainLabels = [p.split(os.paths.sep)[-1].split(\".\")[0] \n",
    "    for p in trainPaths]\n",
    "\n",
    "le = LabelEncoder()\n",
    "trainLabels = le.fit_transform(trainLabels)"
   ]
  },
  {
   "cell_type": "code",
   "execution_count": null,
   "metadata": {},
   "outputs": [],
   "source": [
    "(trainPaths, testPaths,trainLabels,testLabels) = train_test_split(\n",
    "    trainPaths, \n",
    "    trainLabels,\n",
    "    test_size=config.NUM_TEST_IMAGES,\n",
    "    stratify=trainLabels, \n",
    "    random_state = 42)\n",
    "\n",
    "(trainPaths, valPaths,trainLabels,valLabels) = train_test_split(\n",
    "    trainPaths, \n",
    "    trainLabels,\n",
    "    test_size=config.NUM_VAL_IMAGES,\n",
    "    stratify=trainLabels, \n",
    "    random_state = 42)\n"
   ]
  },
  {
   "cell_type": "code",
   "execution_count": null,
   "metadata": {},
   "outputs": [],
   "source": [
    "datasets = [\n",
    "    ('train', trainPaths, trainLabels, config.TRAIN_HDF5),\n",
    "    ('val', valPaths, valLabels, config.VAL_HDF5),\n",
    "    ('test', testPaths, testLabels, config.TEST_HDF5),\n",
    "]\n",
    "\n",
    "aap = AspectAwareProcessor(256,256)\n",
    "(R,G,B) = ([],[],[])\n",
    "\n",
    "for (dType, paths, labels, outputPath) in datasets:\n",
    "    print(f\"[INFO] building {outputPath}\")\n",
    "    writer = HDF5DatasetWriter((len(paths), 256,256,3), outputPath)\n",
    "\n",
    "    widgets = [\n",
    "        f\"Building Dataset {dType}: \",\n",
    "        progressbar.Percentage(),\n",
    "        \" \",\n",
    "        progressbar.Bar(),\n",
    "        \" \",\n",
    "        progressbar.ETA()\n",
    "    ]\n",
    "\n",
    "    pbar = progressbar.ProgressBar(\n",
    "        maxval=len(paths),\n",
    "        widgets=widgets\n",
    "        ).start()\n",
    "    \n",
    "    for (i, (path,label)) in enumerate(zip(paths, labels)):\n",
    "        image = cv2.imread(path)\n",
    "        image = aap.preprocess(image)\n",
    "\n",
    "        if dType == \"train\":\n",
    "            (b,g,r) = cv2.mean(image)[:3]\n",
    "            R.append(r)\n",
    "            G.append(g)\n",
    "            B.append(b)\n",
    "        \n",
    "        writer.add([image], [label])\n",
    "        pbar.update()\n",
    "    \n",
    "    pbar.finish()\n",
    "    writer.close()"
   ]
  },
  {
   "cell_type": "code",
   "execution_count": null,
   "metadata": {},
   "outputs": [],
   "source": [
    "print(\"[INFO] serializing means...\")\n",
    "D = {\n",
    "    \"R\": np.mean(R),\n",
    "    \"G\": np.mean(G),\n",
    "    \"B\": np.mean(B)\n",
    "}\n",
    "\n",
    "with open(config.DATASET_MEAN, \"w\") as f:\n",
    "    f.write(json.dumps(D))"
   ]
  }
 ],
 "metadata": {
  "kernelspec": {
   "display_name": "expmlenv",
   "language": "python",
   "name": "python3"
  },
  "language_info": {
   "codemirror_mode": {
    "name": "ipython",
    "version": 3
   },
   "file_extension": ".py",
   "mimetype": "text/x-python",
   "name": "python",
   "nbconvert_exporter": "python",
   "pygments_lexer": "ipython3",
   "version": "3.10.8 (main, Nov 24 2022, 14:13:03) [GCC 11.2.0]"
  },
  "orig_nbformat": 4,
  "vscode": {
   "interpreter": {
    "hash": "8e551f31eb65be6f81ef744b09e589319bc7597989a590509a727060f7a3aaf1"
   }
  }
 },
 "nbformat": 4,
 "nbformat_minor": 2
}
