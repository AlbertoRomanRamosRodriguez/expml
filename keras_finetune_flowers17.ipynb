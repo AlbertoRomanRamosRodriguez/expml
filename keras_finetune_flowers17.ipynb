{
 "cells": [
  {
   "attachments": {},
   "cell_type": "markdown",
   "metadata": {},
   "source": [
    "# Fine-tuning VGG16 on flowers17 dataset"
   ]
  },
  {
   "cell_type": "code",
   "execution_count": null,
   "metadata": {},
   "outputs": [],
   "source": [
    "from sklearn.preprocessing import LabelBinarizer\n",
    "from sklearn.model_selection import train_test_split\n",
    "from sklearn.metrics import classification_report\n",
    "\n",
    "from keras_example.preprocessing.imagetoarrayprocessor import ImageToArrayPreprocessor\n",
    "from keras_example.preprocessing. aspectawareprocessor import AspectAwareProcessor\n",
    "from keras_example.datasets.simpledatasetloader import SimpleDatasetLoader\n",
    "from keras_example.nn.conv.fcheadnet import FCHeadNet\n",
    "\n",
    "from keras.preprocessing.image import ImageDataGenerator\n",
    "from keras.optimizers import RMSprop, SGD\n",
    "\n",
    "from keras.applications import VGG16\n",
    "from keras.layers import Input\n",
    "from keras.models import Model\n",
    "\n",
    "from imutils import paths\n",
    "\n",
    "import numpy as np\n",
    "import os\n"
   ]
  },
  {
   "cell_type": "code",
   "execution_count": 9,
   "metadata": {},
   "outputs": [],
   "source": [
    "DATASET_PATH = ''\n",
    "MODEL_PATH = '' # serialized hdf5 file\n",
    "MODEL_OUT_PATH = ''\n",
    "EPOCHS = 25"
   ]
  },
  {
   "cell_type": "code",
   "execution_count": null,
   "metadata": {},
   "outputs": [],
   "source": [
    "aug = ImageDataGenerator(rotation_range=30, width_shift_range=0.1,\n",
    "    height_shift_range=0.1, shear_range=0.2, zoom_range=0.2,\n",
    "    horizontal_flip=True, fill_mode='nearest')"
   ]
  },
  {
   "cell_type": "code",
   "execution_count": null,
   "metadata": {},
   "outputs": [],
   "source": [
    "print(\"[INFO] loading images...\")\n",
    "imagePaths = list(paths.list_images(DATASET_PATH))\n",
    "classNames = [pt.split(os.path.sep)[-2] for pt in imagePaths]\n",
    "classNames = [str(x) for x in np.unique(classNames)]\n",
    "\n",
    "aap = AspectAwareProcessor(224,224)\n",
    "iap = ImageToArrayPreprocessor()\n",
    "\n",
    "sdl = SimpleDatasetLoader(preprocessors=[aap, iap])\n",
    "(data, labels) = sdl.load(imagePaths, verbose = 1)\n",
    "data = data.astype(\"float\") / 255.0"
   ]
  },
  {
   "cell_type": "code",
   "execution_count": null,
   "metadata": {},
   "outputs": [],
   "source": [
    "(trainImage, testImage,trainLabels,testLabels) = train_test_split(data, labels,\n",
    "    test_size=0.25, random_state = 42)\n",
    "\n",
    "trainLabels = LabelBinarizer().fit_transform(trainLabels)\n",
    "testLabels = LabelBinarizer().transform(testLabels)"
   ]
  },
  {
   "cell_type": "code",
   "execution_count": null,
   "metadata": {},
   "outputs": [],
   "source": [
    "baseModel = VGG16(weights='imagenet', include_top=False, \n",
    "    input_tensor=Input(shape=(224,224,3)))\n",
    "\n",
    "headModel = FCHeadNet.build(baseModel, len(classNames), 256)\n",
    "\n",
    "model = Model(inputs=baseModel.input, outputs=headModel)\n",
    "\n",
    "for layer in baseModel.layers:\n",
    "    layer.trainable = False\n",
    "\n",
    "print(\"[INFO] compiling model...\")\n",
    "opt = RMSprop(lr=0.001)\n",
    "\n",
    "model.compile(loss=\"categorical-crossentropy\", optimizers=opt, \n",
    "    metrics=[\"accuracy\"])\n",
    "\n",
    "print(\"[INFO] training head...\")\n",
    "model.fit_generator(aug.flow(trainImage, trainLabels, batch_size = 32),\n",
    "    validation_data=(testImage, testLabels), epochs = EPOCHS,\n",
    "    steps_per_epoch=len(trainImage) // 32, verbose = 1)"
   ]
  },
  {
   "cell_type": "code",
   "execution_count": null,
   "metadata": {},
   "outputs": [],
   "source": [
    "print(\"[INFO] evaluating after initialization...\")\n",
    "predictions = model.predict(testImage, batch_size=32)\n",
    "print(classification_report(testLabels.argmax(axis=1),\n",
    "    predictions.argmax(axis=1), target_names=classNames))"
   ]
  },
  {
   "cell_type": "code",
   "execution_count": null,
   "metadata": {},
   "outputs": [],
   "source": [
    "for layer in baseModel.layers[15:]:\n",
    "    layer.trainable = True\n",
    "\n",
    "print(\"[INFO] re-compiling model...\")\n",
    "opt = RMSprop(lr=0.001)\n",
    "\n",
    "model.compile(loss=\"categorical-crossentropy\", optimizers=opt, \n",
    "    metrics=[\"accuracy\"])\n",
    "\n",
    "print(\"[INFO] fine-tuning model...\")\n",
    "model.fit_generator(aug.flow(trainImage, trainLabels, batch_size = 32),\n",
    "    validation_data=(testImage, testLabels), epochs = EPOCHS,\n",
    "    steps_per_epoch=len(trainImage) // 32, verbose = 1)"
   ]
  },
  {
   "cell_type": "code",
   "execution_count": null,
   "metadata": {},
   "outputs": [],
   "source": [
    "print(\"[INFO] evaluating after initialization...\")\n",
    "predictions = model.predict(testImage, batch_size=32)\n",
    "print(classification_report(testLabels.argmax(axis=1),\n",
    "    predictions.argmax(axis=1), target_names=classNames))\n",
    "\n",
    "model.save(MODEL_OUT_PATH)"
   ]
  }
 ],
 "metadata": {
  "kernelspec": {
   "display_name": "expmlenv",
   "language": "python",
   "name": "python3"
  },
  "language_info": {
   "codemirror_mode": {
    "name": "ipython",
    "version": 3
   },
   "file_extension": ".py",
   "mimetype": "text/x-python",
   "name": "python",
   "nbconvert_exporter": "python",
   "pygments_lexer": "ipython3",
   "version": "3.10.8"
  },
  "orig_nbformat": 4,
  "vscode": {
   "interpreter": {
    "hash": "8e551f31eb65be6f81ef744b09e589319bc7597989a590509a727060f7a3aaf1"
   }
  }
 },
 "nbformat": 4,
 "nbformat_minor": 2
}
