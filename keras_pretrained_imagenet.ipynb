{
 "cells": [
  {
   "attachments": {},
   "cell_type": "markdown",
   "metadata": {},
   "source": [
    "# Keras example of pre-trained networks on ImageNet dataset"
   ]
  },
  {
   "cell_type": "code",
   "execution_count": 22,
   "metadata": {},
   "outputs": [],
   "source": [
    "from keras.applications import ResNet50\n",
    "from keras.applications import InceptionV3\n",
    "from keras.applications import Xception\n",
    "from keras.applications import VGG16\n",
    "from keras.applications import VGG19\n",
    "\n",
    "from keras.applications import imagenet_utils\n",
    "from keras.applications.inception_v3 import preprocess_input\n",
    "\n",
    "from tensorflow.keras.preprocessing.image import img_to_array\n",
    "from tensorflow.keras.preprocessing.image import load_img\n",
    "\n",
    "import numpy as np\n",
    "import cv2"
   ]
  },
  {
   "cell_type": "code",
   "execution_count": 26,
   "metadata": {},
   "outputs": [],
   "source": [
    "MODELS = {\n",
    "    'vgg16': VGG16,\n",
    "    'vgg19': VGG19,\n",
    "    'inception': InceptionV3,\n",
    "    'xception': Xception,\n",
    "    'resnet': ResNet50\n",
    "}\n",
    "\n",
    "IM_PATH = './kitten-510651.jpg'\n"
   ]
  },
  {
   "cell_type": "code",
   "execution_count": 28,
   "metadata": {},
   "outputs": [
    {
     "name": "stdout",
     "output_type": "stream",
     "text": [
      "Downloading data from https://storage.googleapis.com/tensorflow/keras-applications/vgg16/vgg16_weights_tf_dim_ordering_tf_kernels.h5\n",
      "  3350528/553467096 [..............................] - ETA: 2:12:09"
     ]
    },
    {
     "ename": "ValueError",
     "evalue": "Incomplete or corrupted file detected. The auto file hash does not match the provided value of 64373286793e3c8b2b4e3219cbf3544b.",
     "output_type": "error",
     "traceback": [
      "\u001b[0;31m---------------------------------------------------------------------------\u001b[0m",
      "\u001b[0;31mValueError\u001b[0m                                Traceback (most recent call last)",
      "Cell \u001b[0;32mIn [28], line 3\u001b[0m\n\u001b[1;32m      1\u001b[0m \u001b[39mfor\u001b[39;00m (arch_name, arch) \u001b[39min\u001b[39;00m MODELS\u001b[39m.\u001b[39mitems():\n\u001b[1;32m      2\u001b[0m     Network \u001b[39m=\u001b[39m arch\n\u001b[0;32m----> 3\u001b[0m     model \u001b[39m=\u001b[39m Network(weights\u001b[39m=\u001b[39;49m\u001b[39m'\u001b[39;49m\u001b[39mimagenet\u001b[39;49m\u001b[39m'\u001b[39;49m)\n\u001b[1;32m      5\u001b[0m     inputShape \u001b[39m=\u001b[39m (\u001b[39m224\u001b[39m,\u001b[39m224\u001b[39m)\n\u001b[1;32m      6\u001b[0m     preprocess \u001b[39m=\u001b[39m imagenet_utils\u001b[39m.\u001b[39mpreprocess_input\n",
      "File \u001b[0;32m~/miniconda3/envs/expmlenv/lib/python3.10/site-packages/keras/applications/vgg16.py:235\u001b[0m, in \u001b[0;36mVGG16\u001b[0;34m(include_top, weights, input_tensor, input_shape, pooling, classes, classifier_activation)\u001b[0m\n\u001b[1;32m    233\u001b[0m \u001b[39mif\u001b[39;00m weights \u001b[39m==\u001b[39m \u001b[39m\"\u001b[39m\u001b[39mimagenet\u001b[39m\u001b[39m\"\u001b[39m:\n\u001b[1;32m    234\u001b[0m     \u001b[39mif\u001b[39;00m include_top:\n\u001b[0;32m--> 235\u001b[0m         weights_path \u001b[39m=\u001b[39m data_utils\u001b[39m.\u001b[39;49mget_file(\n\u001b[1;32m    236\u001b[0m             \u001b[39m\"\u001b[39;49m\u001b[39mvgg16_weights_tf_dim_ordering_tf_kernels.h5\u001b[39;49m\u001b[39m\"\u001b[39;49m,\n\u001b[1;32m    237\u001b[0m             WEIGHTS_PATH,\n\u001b[1;32m    238\u001b[0m             cache_subdir\u001b[39m=\u001b[39;49m\u001b[39m\"\u001b[39;49m\u001b[39mmodels\u001b[39;49m\u001b[39m\"\u001b[39;49m,\n\u001b[1;32m    239\u001b[0m             file_hash\u001b[39m=\u001b[39;49m\u001b[39m\"\u001b[39;49m\u001b[39m64373286793e3c8b2b4e3219cbf3544b\u001b[39;49m\u001b[39m\"\u001b[39;49m,\n\u001b[1;32m    240\u001b[0m         )\n\u001b[1;32m    241\u001b[0m     \u001b[39melse\u001b[39;00m:\n\u001b[1;32m    242\u001b[0m         weights_path \u001b[39m=\u001b[39m data_utils\u001b[39m.\u001b[39mget_file(\n\u001b[1;32m    243\u001b[0m             \u001b[39m\"\u001b[39m\u001b[39mvgg16_weights_tf_dim_ordering_tf_kernels_notop.h5\u001b[39m\u001b[39m\"\u001b[39m,\n\u001b[1;32m    244\u001b[0m             WEIGHTS_PATH_NO_TOP,\n\u001b[1;32m    245\u001b[0m             cache_subdir\u001b[39m=\u001b[39m\u001b[39m\"\u001b[39m\u001b[39mmodels\u001b[39m\u001b[39m\"\u001b[39m,\n\u001b[1;32m    246\u001b[0m             file_hash\u001b[39m=\u001b[39m\u001b[39m\"\u001b[39m\u001b[39m6d6bbae143d832006294945121d1f1fc\u001b[39m\u001b[39m\"\u001b[39m,\n\u001b[1;32m    247\u001b[0m         )\n",
      "File \u001b[0;32m~/miniconda3/envs/expmlenv/lib/python3.10/site-packages/keras/utils/data_utils.py:311\u001b[0m, in \u001b[0;36mget_file\u001b[0;34m(fname, origin, untar, md5_hash, file_hash, cache_subdir, hash_algorithm, extract, archive_format, cache_dir)\u001b[0m\n\u001b[1;32m    309\u001b[0m     \u001b[39mif\u001b[39;00m os\u001b[39m.\u001b[39mpath\u001b[39m.\u001b[39mexists(fpath) \u001b[39mand\u001b[39;00m file_hash \u001b[39mis\u001b[39;00m \u001b[39mnot\u001b[39;00m \u001b[39mNone\u001b[39;00m:\n\u001b[1;32m    310\u001b[0m         \u001b[39mif\u001b[39;00m \u001b[39mnot\u001b[39;00m validate_file(fpath, file_hash, algorithm\u001b[39m=\u001b[39mhash_algorithm):\n\u001b[0;32m--> 311\u001b[0m             \u001b[39mraise\u001b[39;00m \u001b[39mValueError\u001b[39;00m(\n\u001b[1;32m    312\u001b[0m                 \u001b[39mf\u001b[39m\u001b[39m\"\u001b[39m\u001b[39mIncomplete or corrupted file detected. \u001b[39m\u001b[39m\"\u001b[39m\n\u001b[1;32m    313\u001b[0m                 \u001b[39mf\u001b[39m\u001b[39m\"\u001b[39m\u001b[39mThe \u001b[39m\u001b[39m{\u001b[39;00mhash_algorithm\u001b[39m}\u001b[39;00m\u001b[39m \u001b[39m\u001b[39m\"\u001b[39m\n\u001b[1;32m    314\u001b[0m                 \u001b[39mf\u001b[39m\u001b[39m\"\u001b[39m\u001b[39mfile hash does not match the provided value \u001b[39m\u001b[39m\"\u001b[39m\n\u001b[1;32m    315\u001b[0m                 \u001b[39mf\u001b[39m\u001b[39m\"\u001b[39m\u001b[39mof \u001b[39m\u001b[39m{\u001b[39;00mfile_hash\u001b[39m}\u001b[39;00m\u001b[39m.\u001b[39m\u001b[39m\"\u001b[39m\n\u001b[1;32m    316\u001b[0m             )\n\u001b[1;32m    318\u001b[0m \u001b[39mif\u001b[39;00m untar:\n\u001b[1;32m    319\u001b[0m     \u001b[39mif\u001b[39;00m \u001b[39mnot\u001b[39;00m os\u001b[39m.\u001b[39mpath\u001b[39m.\u001b[39mexists(untar_fpath):\n",
      "\u001b[0;31mValueError\u001b[0m: Incomplete or corrupted file detected. The auto file hash does not match the provided value of 64373286793e3c8b2b4e3219cbf3544b."
     ]
    }
   ],
   "source": [
    "for (arch_name, arch) in MODELS.items():\n",
    "    Network = arch\n",
    "    model = Network(weights='imagenet')\n",
    "\n",
    "    inputShape = (224,224)\n",
    "    preprocess = imagenet_utils.preprocess_input\n",
    "\n",
    "    if arch_name in ('inception', 'xception'):\n",
    "        inputShape = (299,299)\n",
    "        preprocess = preprocess_input\n",
    "\n",
    "    display(f\"[INFO] loading and pre-processing image...\")\n",
    "\n",
    "    image = load_img(IM_PATH, inputShape)\n",
    "    image = img_to_array(image)\n",
    "    display(image.shape)\n",
    "\n",
    "    image = np.expand_dims(image, axis = 0)\n",
    "    display(image.shape)\n",
    "\n",
    "    image = preprocess(image)\n",
    "\n",
    "    display(f\"[INFO] classifying with {arch_name}...\")\n",
    "    preds = model.predict(image)\n",
    "    P = imagenet_utils.decode_predictions(preds)\n",
    "\n",
    "    for (i, (imagenetID, label, prob)) in enumerate(P[0]):\n",
    "    print(f'{i+1}. {label}: {prob*100}')\n",
    "\n",
    "    "
   ]
  }
 ],
 "metadata": {
  "kernelspec": {
   "display_name": "expmlenv",
   "language": "python",
   "name": "python3"
  },
  "language_info": {
   "codemirror_mode": {
    "name": "ipython",
    "version": 3
   },
   "file_extension": ".py",
   "mimetype": "text/x-python",
   "name": "python",
   "nbconvert_exporter": "python",
   "pygments_lexer": "ipython3",
   "version": "3.10.8"
  },
  "orig_nbformat": 4,
  "vscode": {
   "interpreter": {
    "hash": "8e551f31eb65be6f81ef744b09e589319bc7597989a590509a727060f7a3aaf1"
   }
  }
 },
 "nbformat": 4,
 "nbformat_minor": 2
}
