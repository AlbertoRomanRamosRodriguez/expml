{
  "cells": [
    {
      "cell_type": "markdown",
      "metadata": {
        "id": "eE3MZwD9fajU"
      },
      "source": [
        "# Classifier using MNIST dataset and Keras"
      ]
    },
    {
      "cell_type": "code",
      "execution_count": 1,
      "metadata": {
        "id": "6pyjFuCtfajX"
      },
      "outputs": [],
      "source": [
        "from sklearn.preprocessing import LabelBinarizer\n",
        "from sklearn.metrics import classification_report\n",
        "from tensorflow.keras.models import Sequential\n",
        "from tensorflow.keras.layers import Dense\n",
        "from tensorflow.keras.optimizers import SGD\n",
        "from tensorflow.keras.datasets import mnist\n",
        "from tensorflow.keras import backend as K\n",
        "\n",
        "import matplotlib.pyplot as plt\n",
        "import numpy as np"
      ]
    },
    {
      "cell_type": "code",
      "execution_count": 3,
      "metadata": {
        "colab": {
          "base_uri": "https://localhost:8080/"
        },
        "id": "oxIEYbhAfajZ",
        "outputId": "298a9c9c-86b6-445e-db1d-3613fefe0268"
      },
      "outputs": [
        {
          "name": "stdout",
          "output_type": "stream",
          "text": [
            "[INFO] accessing MNIST...\n"
          ]
        }
      ],
      "source": [
        "print(\"[INFO] accessing MNIST...\")\n",
        "((trainX, trainY),(testX, testY)) = mnist.load_data()\n",
        "\n",
        "# Flattening the image \n",
        "trainX = trainX.reshape((trainX.shape[0],28*28*1))\n",
        "testX = testX.reshape((testX.shape[0],28*28*1))\n",
        "\n",
        "trainX = trainX.astype('float32')/255.0\n",
        "testX = testX.astype('float32')/255.0"
      ]
    },
    {
      "cell_type": "code",
      "execution_count": 4,
      "metadata": {
        "id": "0nzVljNVfz_-"
      },
      "outputs": [],
      "source": [
        "lb = LabelBinarizer()\n",
        "trainY = lb.fit_transform(trainY)\n",
        "testY = lb.transform(testY)"
      ]
    },
    {
      "cell_type": "code",
      "execution_count": 7,
      "metadata": {
        "id": "BTl6e0kDgS3J"
      },
      "outputs": [],
      "source": [
        "# Defining the 784-256-128-10 architecture using Keras\n",
        "model = Sequential()\n",
        "model.add(Dense(256, input_shape=(784,), activation = 'sigmoid'))\n",
        "model.add(Dense(128, activation = 'sigmoid'))\n",
        "model.add(Dense(10, activation = 'softmax'))"
      ]
    },
    {
      "cell_type": "code",
      "execution_count": 9,
      "metadata": {
        "colab": {
          "base_uri": "https://localhost:8080/"
        },
        "id": "wEWTEQDDg2er",
        "outputId": "5e7153fd-be57-4435-8266-c86227f135d8"
      },
      "outputs": [
        {
          "name": "stdout",
          "output_type": "stream",
          "text": [
            "Epoch 1/100\n",
            "469/469 [==============================] - 4s 8ms/step - loss: 2.2132 - accuracy: 0.3770 - val_loss: 2.1731 - val_accuracy: 0.4425\n",
            "Epoch 2/100\n",
            "469/469 [==============================] - 3s 7ms/step - loss: 2.1288 - accuracy: 0.4988 - val_loss: 2.0716 - val_accuracy: 0.5629\n",
            "Epoch 3/100\n",
            "469/469 [==============================] - 3s 7ms/step - loss: 2.0087 - accuracy: 0.5726 - val_loss: 1.9265 - val_accuracy: 0.6366\n",
            "Epoch 4/100\n",
            "469/469 [==============================] - 3s 7ms/step - loss: 1.8416 - accuracy: 0.6262 - val_loss: 1.7338 - val_accuracy: 0.6558\n",
            "Epoch 5/100\n",
            "469/469 [==============================] - 3s 7ms/step - loss: 1.6355 - accuracy: 0.6712 - val_loss: 1.5156 - val_accuracy: 0.6908\n",
            "Epoch 6/100\n",
            "469/469 [==============================] - 3s 7ms/step - loss: 1.4210 - accuracy: 0.7126 - val_loss: 1.3070 - val_accuracy: 0.7312\n",
            "Epoch 7/100\n",
            "469/469 [==============================] - 3s 7ms/step - loss: 1.2294 - accuracy: 0.7470 - val_loss: 1.1328 - val_accuracy: 0.7714\n",
            "Epoch 8/100\n",
            "469/469 [==============================] - 3s 7ms/step - loss: 1.0755 - accuracy: 0.7731 - val_loss: 0.9973 - val_accuracy: 0.7917\n",
            "Epoch 9/100\n",
            "469/469 [==============================] - 3s 7ms/step - loss: 0.9558 - accuracy: 0.7936 - val_loss: 0.8921 - val_accuracy: 0.8069\n",
            "Epoch 10/100\n",
            "469/469 [==============================] - 3s 7ms/step - loss: 0.8619 - accuracy: 0.8097 - val_loss: 0.8081 - val_accuracy: 0.8178\n",
            "Epoch 11/100\n",
            "469/469 [==============================] - 3s 7ms/step - loss: 0.7869 - accuracy: 0.8207 - val_loss: 0.7413 - val_accuracy: 0.8287\n",
            "Epoch 12/100\n",
            "469/469 [==============================] - 3s 7ms/step - loss: 0.7263 - accuracy: 0.8296 - val_loss: 0.6871 - val_accuracy: 0.8362\n",
            "Epoch 13/100\n",
            "469/469 [==============================] - 3s 7ms/step - loss: 0.6764 - accuracy: 0.8382 - val_loss: 0.6422 - val_accuracy: 0.8454\n",
            "Epoch 14/100\n",
            "469/469 [==============================] - 3s 7ms/step - loss: 0.6354 - accuracy: 0.8449 - val_loss: 0.6039 - val_accuracy: 0.8506\n",
            "Epoch 15/100\n",
            "469/469 [==============================] - 3s 7ms/step - loss: 0.6009 - accuracy: 0.8509 - val_loss: 0.5721 - val_accuracy: 0.8580\n",
            "Epoch 16/100\n",
            "469/469 [==============================] - 3s 7ms/step - loss: 0.5720 - accuracy: 0.8562 - val_loss: 0.5455 - val_accuracy: 0.8623\n",
            "Epoch 17/100\n",
            "469/469 [==============================] - 3s 7ms/step - loss: 0.5472 - accuracy: 0.8605 - val_loss: 0.5227 - val_accuracy: 0.8648\n",
            "Epoch 18/100\n",
            "469/469 [==============================] - 3s 7ms/step - loss: 0.5258 - accuracy: 0.8647 - val_loss: 0.5028 - val_accuracy: 0.8696\n",
            "Epoch 19/100\n",
            "469/469 [==============================] - 3s 7ms/step - loss: 0.5073 - accuracy: 0.8679 - val_loss: 0.4852 - val_accuracy: 0.8710\n",
            "Epoch 20/100\n",
            "469/469 [==============================] - 3s 7ms/step - loss: 0.4910 - accuracy: 0.8722 - val_loss: 0.4702 - val_accuracy: 0.8745\n",
            "Epoch 21/100\n",
            "469/469 [==============================] - 3s 7ms/step - loss: 0.4766 - accuracy: 0.8744 - val_loss: 0.4568 - val_accuracy: 0.8785\n",
            "Epoch 22/100\n",
            "469/469 [==============================] - 4s 9ms/step - loss: 0.4638 - accuracy: 0.8770 - val_loss: 0.4445 - val_accuracy: 0.8800\n",
            "Epoch 23/100\n",
            "469/469 [==============================] - 4s 8ms/step - loss: 0.4524 - accuracy: 0.8791 - val_loss: 0.4336 - val_accuracy: 0.8829\n",
            "Epoch 24/100\n",
            "469/469 [==============================] - 3s 7ms/step - loss: 0.4420 - accuracy: 0.8811 - val_loss: 0.4244 - val_accuracy: 0.8856\n",
            "Epoch 25/100\n",
            "469/469 [==============================] - 3s 7ms/step - loss: 0.4327 - accuracy: 0.8832 - val_loss: 0.4159 - val_accuracy: 0.8852\n",
            "Epoch 26/100\n",
            "469/469 [==============================] - 3s 7ms/step - loss: 0.4243 - accuracy: 0.8850 - val_loss: 0.4074 - val_accuracy: 0.8876\n",
            "Epoch 27/100\n",
            "469/469 [==============================] - 3s 7ms/step - loss: 0.4167 - accuracy: 0.8858 - val_loss: 0.4000 - val_accuracy: 0.8904\n",
            "Epoch 28/100\n",
            "469/469 [==============================] - 3s 7ms/step - loss: 0.4096 - accuracy: 0.8879 - val_loss: 0.3939 - val_accuracy: 0.8917\n",
            "Epoch 29/100\n",
            "469/469 [==============================] - 4s 8ms/step - loss: 0.4032 - accuracy: 0.8890 - val_loss: 0.3878 - val_accuracy: 0.8931\n",
            "Epoch 30/100\n",
            "469/469 [==============================] - 3s 7ms/step - loss: 0.3972 - accuracy: 0.8898 - val_loss: 0.3820 - val_accuracy: 0.8945\n",
            "Epoch 31/100\n",
            "469/469 [==============================] - 6s 12ms/step - loss: 0.3917 - accuracy: 0.8916 - val_loss: 0.3769 - val_accuracy: 0.8944\n",
            "Epoch 32/100\n",
            "469/469 [==============================] - 4s 8ms/step - loss: 0.3867 - accuracy: 0.8926 - val_loss: 0.3721 - val_accuracy: 0.8967\n",
            "Epoch 33/100\n",
            "469/469 [==============================] - 3s 7ms/step - loss: 0.3819 - accuracy: 0.8940 - val_loss: 0.3672 - val_accuracy: 0.8981\n",
            "Epoch 34/100\n",
            "469/469 [==============================] - 3s 7ms/step - loss: 0.3773 - accuracy: 0.8948 - val_loss: 0.3640 - val_accuracy: 0.8995\n",
            "Epoch 35/100\n",
            "469/469 [==============================] - 3s 7ms/step - loss: 0.3733 - accuracy: 0.8956 - val_loss: 0.3597 - val_accuracy: 0.8995\n",
            "Epoch 36/100\n",
            "469/469 [==============================] - 3s 7ms/step - loss: 0.3693 - accuracy: 0.8971 - val_loss: 0.3559 - val_accuracy: 0.9001\n",
            "Epoch 37/100\n",
            "469/469 [==============================] - 3s 7ms/step - loss: 0.3656 - accuracy: 0.8978 - val_loss: 0.3525 - val_accuracy: 0.9013\n",
            "Epoch 38/100\n",
            "469/469 [==============================] - 3s 7ms/step - loss: 0.3621 - accuracy: 0.8981 - val_loss: 0.3488 - val_accuracy: 0.9018\n",
            "Epoch 39/100\n",
            "469/469 [==============================] - 3s 7ms/step - loss: 0.3587 - accuracy: 0.8989 - val_loss: 0.3455 - val_accuracy: 0.9017\n",
            "Epoch 40/100\n",
            "469/469 [==============================] - 3s 7ms/step - loss: 0.3555 - accuracy: 0.8998 - val_loss: 0.3428 - val_accuracy: 0.9027\n",
            "Epoch 41/100\n",
            "469/469 [==============================] - 4s 8ms/step - loss: 0.3525 - accuracy: 0.8999 - val_loss: 0.3396 - val_accuracy: 0.9035\n",
            "Epoch 42/100\n",
            "469/469 [==============================] - 3s 7ms/step - loss: 0.3495 - accuracy: 0.9006 - val_loss: 0.3375 - val_accuracy: 0.9035\n",
            "Epoch 43/100\n",
            "469/469 [==============================] - 3s 7ms/step - loss: 0.3468 - accuracy: 0.9017 - val_loss: 0.3349 - val_accuracy: 0.9034\n",
            "Epoch 44/100\n",
            "469/469 [==============================] - 3s 7ms/step - loss: 0.3442 - accuracy: 0.9022 - val_loss: 0.3320 - val_accuracy: 0.9047\n",
            "Epoch 45/100\n",
            "469/469 [==============================] - 3s 7ms/step - loss: 0.3418 - accuracy: 0.9028 - val_loss: 0.3298 - val_accuracy: 0.9037\n",
            "Epoch 46/100\n",
            "469/469 [==============================] - 3s 7ms/step - loss: 0.3393 - accuracy: 0.9038 - val_loss: 0.3271 - val_accuracy: 0.9049\n",
            "Epoch 47/100\n",
            "469/469 [==============================] - 3s 7ms/step - loss: 0.3369 - accuracy: 0.9041 - val_loss: 0.3252 - val_accuracy: 0.9065\n",
            "Epoch 48/100\n",
            "469/469 [==============================] - 3s 7ms/step - loss: 0.3346 - accuracy: 0.9043 - val_loss: 0.3229 - val_accuracy: 0.9066\n",
            "Epoch 49/100\n",
            "469/469 [==============================] - 3s 7ms/step - loss: 0.3324 - accuracy: 0.9052 - val_loss: 0.3207 - val_accuracy: 0.9064\n",
            "Epoch 50/100\n",
            "469/469 [==============================] - 3s 7ms/step - loss: 0.3304 - accuracy: 0.9063 - val_loss: 0.3189 - val_accuracy: 0.9084\n",
            "Epoch 51/100\n",
            "469/469 [==============================] - 3s 7ms/step - loss: 0.3282 - accuracy: 0.9067 - val_loss: 0.3173 - val_accuracy: 0.9076\n",
            "Epoch 52/100\n",
            "469/469 [==============================] - 3s 7ms/step - loss: 0.3263 - accuracy: 0.9071 - val_loss: 0.3154 - val_accuracy: 0.9080\n",
            "Epoch 53/100\n",
            "469/469 [==============================] - 3s 7ms/step - loss: 0.3243 - accuracy: 0.9077 - val_loss: 0.3134 - val_accuracy: 0.9097\n",
            "Epoch 54/100\n",
            "469/469 [==============================] - 3s 7ms/step - loss: 0.3224 - accuracy: 0.9080 - val_loss: 0.3116 - val_accuracy: 0.9105\n",
            "Epoch 55/100\n",
            "469/469 [==============================] - 3s 7ms/step - loss: 0.3206 - accuracy: 0.9088 - val_loss: 0.3098 - val_accuracy: 0.9101\n",
            "Epoch 56/100\n",
            "469/469 [==============================] - 3s 7ms/step - loss: 0.3189 - accuracy: 0.9093 - val_loss: 0.3082 - val_accuracy: 0.9111\n",
            "Epoch 57/100\n",
            "469/469 [==============================] - 3s 7ms/step - loss: 0.3172 - accuracy: 0.9096 - val_loss: 0.3065 - val_accuracy: 0.9113\n",
            "Epoch 58/100\n",
            "469/469 [==============================] - 3s 7ms/step - loss: 0.3154 - accuracy: 0.9099 - val_loss: 0.3054 - val_accuracy: 0.9118\n",
            "Epoch 59/100\n",
            "469/469 [==============================] - 3s 7ms/step - loss: 0.3138 - accuracy: 0.9101 - val_loss: 0.3034 - val_accuracy: 0.9114\n",
            "Epoch 60/100\n",
            "469/469 [==============================] - 3s 7ms/step - loss: 0.3122 - accuracy: 0.9106 - val_loss: 0.3025 - val_accuracy: 0.9131\n",
            "Epoch 61/100\n",
            "469/469 [==============================] - 3s 7ms/step - loss: 0.3107 - accuracy: 0.9111 - val_loss: 0.3006 - val_accuracy: 0.9137\n",
            "Epoch 62/100\n",
            "469/469 [==============================] - 3s 7ms/step - loss: 0.3091 - accuracy: 0.9116 - val_loss: 0.2992 - val_accuracy: 0.9137\n",
            "Epoch 63/100\n",
            "469/469 [==============================] - 3s 7ms/step - loss: 0.3076 - accuracy: 0.9117 - val_loss: 0.2980 - val_accuracy: 0.9143\n",
            "Epoch 64/100\n",
            "469/469 [==============================] - 3s 7ms/step - loss: 0.3062 - accuracy: 0.9119 - val_loss: 0.2967 - val_accuracy: 0.9145\n",
            "Epoch 65/100\n",
            "469/469 [==============================] - 3s 7ms/step - loss: 0.3047 - accuracy: 0.9127 - val_loss: 0.2951 - val_accuracy: 0.9158\n",
            "Epoch 66/100\n",
            "469/469 [==============================] - 3s 7ms/step - loss: 0.3032 - accuracy: 0.9131 - val_loss: 0.2938 - val_accuracy: 0.9149\n",
            "Epoch 67/100\n",
            "469/469 [==============================] - 3s 7ms/step - loss: 0.3019 - accuracy: 0.9136 - val_loss: 0.2927 - val_accuracy: 0.9159\n",
            "Epoch 68/100\n",
            "469/469 [==============================] - 3s 7ms/step - loss: 0.3006 - accuracy: 0.9139 - val_loss: 0.2915 - val_accuracy: 0.9152\n",
            "Epoch 69/100\n",
            "469/469 [==============================] - 3s 7ms/step - loss: 0.2992 - accuracy: 0.9141 - val_loss: 0.2899 - val_accuracy: 0.9163\n",
            "Epoch 70/100\n",
            "469/469 [==============================] - 3s 7ms/step - loss: 0.2980 - accuracy: 0.9144 - val_loss: 0.2890 - val_accuracy: 0.9163\n",
            "Epoch 71/100\n",
            "469/469 [==============================] - 3s 7ms/step - loss: 0.2967 - accuracy: 0.9148 - val_loss: 0.2879 - val_accuracy: 0.9166\n",
            "Epoch 72/100\n",
            "469/469 [==============================] - 3s 7ms/step - loss: 0.2954 - accuracy: 0.9150 - val_loss: 0.2865 - val_accuracy: 0.9170\n",
            "Epoch 73/100\n",
            "469/469 [==============================] - 3s 7ms/step - loss: 0.2942 - accuracy: 0.9158 - val_loss: 0.2852 - val_accuracy: 0.9178\n",
            "Epoch 74/100\n",
            "469/469 [==============================] - 3s 7ms/step - loss: 0.2929 - accuracy: 0.9160 - val_loss: 0.2846 - val_accuracy: 0.9171\n",
            "Epoch 75/100\n",
            "469/469 [==============================] - 4s 8ms/step - loss: 0.2918 - accuracy: 0.9161 - val_loss: 0.2836 - val_accuracy: 0.9166\n",
            "Epoch 76/100\n",
            "469/469 [==============================] - 5s 11ms/step - loss: 0.2906 - accuracy: 0.9164 - val_loss: 0.2820 - val_accuracy: 0.9195\n",
            "Epoch 77/100\n",
            "469/469 [==============================] - 6s 12ms/step - loss: 0.2895 - accuracy: 0.9169 - val_loss: 0.2812 - val_accuracy: 0.9185\n",
            "Epoch 78/100\n",
            "469/469 [==============================] - 6s 13ms/step - loss: 0.2883 - accuracy: 0.9172 - val_loss: 0.2807 - val_accuracy: 0.9193\n",
            "Epoch 79/100\n",
            "469/469 [==============================] - 6s 12ms/step - loss: 0.2873 - accuracy: 0.9175 - val_loss: 0.2794 - val_accuracy: 0.9191\n",
            "Epoch 80/100\n",
            "469/469 [==============================] - 7s 14ms/step - loss: 0.2862 - accuracy: 0.9174 - val_loss: 0.2781 - val_accuracy: 0.9195\n",
            "Epoch 81/100\n",
            "469/469 [==============================] - 6s 14ms/step - loss: 0.2850 - accuracy: 0.9179 - val_loss: 0.2773 - val_accuracy: 0.9192\n",
            "Epoch 82/100\n",
            "469/469 [==============================] - 5s 11ms/step - loss: 0.2840 - accuracy: 0.9181 - val_loss: 0.2766 - val_accuracy: 0.9203\n",
            "Epoch 83/100\n",
            "469/469 [==============================] - 6s 12ms/step - loss: 0.2830 - accuracy: 0.9186 - val_loss: 0.2753 - val_accuracy: 0.9203\n",
            "Epoch 84/100\n",
            "469/469 [==============================] - 8s 18ms/step - loss: 0.2818 - accuracy: 0.9186 - val_loss: 0.2740 - val_accuracy: 0.9215\n",
            "Epoch 85/100\n",
            "469/469 [==============================] - 6s 13ms/step - loss: 0.2809 - accuracy: 0.9192 - val_loss: 0.2733 - val_accuracy: 0.9223\n",
            "Epoch 86/100\n",
            "469/469 [==============================] - 9s 19ms/step - loss: 0.2799 - accuracy: 0.9193 - val_loss: 0.2726 - val_accuracy: 0.9213\n",
            "Epoch 87/100\n",
            "469/469 [==============================] - 9s 20ms/step - loss: 0.2789 - accuracy: 0.9196 - val_loss: 0.2721 - val_accuracy: 0.9218\n",
            "Epoch 88/100\n",
            "469/469 [==============================] - 11s 24ms/step - loss: 0.2779 - accuracy: 0.9198 - val_loss: 0.2705 - val_accuracy: 0.9224\n",
            "Epoch 89/100\n",
            "469/469 [==============================] - 11s 22ms/step - loss: 0.2769 - accuracy: 0.9199 - val_loss: 0.2697 - val_accuracy: 0.9225\n",
            "Epoch 90/100\n",
            "469/469 [==============================] - 7s 15ms/step - loss: 0.2760 - accuracy: 0.9204 - val_loss: 0.2686 - val_accuracy: 0.9228\n",
            "Epoch 91/100\n",
            "469/469 [==============================] - 3s 7ms/step - loss: 0.2750 - accuracy: 0.9205 - val_loss: 0.2684 - val_accuracy: 0.9233\n",
            "Epoch 92/100\n",
            "469/469 [==============================] - 3s 7ms/step - loss: 0.2741 - accuracy: 0.9210 - val_loss: 0.2673 - val_accuracy: 0.9233\n",
            "Epoch 93/100\n",
            "469/469 [==============================] - 3s 7ms/step - loss: 0.2731 - accuracy: 0.9210 - val_loss: 0.2665 - val_accuracy: 0.9226\n",
            "Epoch 94/100\n",
            "469/469 [==============================] - 3s 7ms/step - loss: 0.2722 - accuracy: 0.9213 - val_loss: 0.2655 - val_accuracy: 0.9232\n",
            "Epoch 95/100\n",
            "469/469 [==============================] - 3s 7ms/step - loss: 0.2713 - accuracy: 0.9215 - val_loss: 0.2650 - val_accuracy: 0.9239\n",
            "Epoch 96/100\n",
            "469/469 [==============================] - 3s 7ms/step - loss: 0.2704 - accuracy: 0.9218 - val_loss: 0.2644 - val_accuracy: 0.9232\n",
            "Epoch 97/100\n",
            "469/469 [==============================] - 3s 7ms/step - loss: 0.2695 - accuracy: 0.9221 - val_loss: 0.2631 - val_accuracy: 0.9236\n",
            "Epoch 98/100\n",
            "469/469 [==============================] - 4s 9ms/step - loss: 0.2685 - accuracy: 0.9222 - val_loss: 0.2627 - val_accuracy: 0.9237\n",
            "Epoch 99/100\n",
            "469/469 [==============================] - 4s 8ms/step - loss: 0.2677 - accuracy: 0.9224 - val_loss: 0.2618 - val_accuracy: 0.9237\n",
            "Epoch 100/100\n",
            "469/469 [==============================] - 4s 8ms/step - loss: 0.2668 - accuracy: 0.9226 - val_loss: 0.2612 - val_accuracy: 0.9238\n"
          ]
        }
      ],
      "source": [
        "# train the model using SGD\n",
        "sgd = SGD(0.01)\n",
        "model.compile(loss  = 'categorical_crossentropy', optimizer = sgd,\n",
        "              metrics = ['accuracy'])\n",
        "H = model.fit(trainX, trainY, validation_data = (testX, testY), \n",
        "              epochs=100, batch_size = 128)"
      ]
    },
    {
      "cell_type": "code",
      "execution_count": 19,
      "metadata": {
        "colab": {
          "base_uri": "https://localhost:8080/"
        },
        "id": "Mce9Il-fjSGh",
        "outputId": "e8b5eed1-bec8-4b2c-c8bf-7419ab77077b"
      },
      "outputs": [
        {
          "name": "stdout",
          "output_type": "stream",
          "text": [
            "[INFO] evaluating network...\n",
            "79/79 [==============================] - 0s 4ms/step\n",
            "              precision    recall  f1-score   support\n",
            "\n",
            "           0       0.94      0.98      0.96       980\n",
            "           1       0.97      0.98      0.97      1135\n",
            "           2       0.93      0.90      0.91      1032\n",
            "           3       0.91      0.91      0.91      1010\n",
            "           4       0.91      0.94      0.92       982\n",
            "           5       0.89      0.88      0.89       892\n",
            "           6       0.93      0.95      0.94       958\n",
            "           7       0.93      0.93      0.93      1028\n",
            "           8       0.89      0.89      0.89       974\n",
            "           9       0.93      0.89      0.91      1009\n",
            "\n",
            "    accuracy                           0.92     10000\n",
            "   macro avg       0.92      0.92      0.92     10000\n",
            "weighted avg       0.92      0.92      0.92     10000\n",
            "\n"
          ]
        }
      ],
      "source": [
        "# evaluate the network\n",
        "print(\"[INFO] evaluating network...\")\n",
        "predictions = model.predict(testX, batch_size = 128)\n",
        "print(classification_report(testY.argmax(axis = 1),\n",
        "      predictions.argmax(axis = 1),\n",
        "      target_names  = [str(x) for x in lb.classes_]))"
      ]
    },
    {
      "cell_type": "code",
      "execution_count": 23,
      "metadata": {
        "colab": {
          "base_uri": "https://localhost:8080/",
          "height": 316
        },
        "id": "NinIO3BKk9j0",
        "outputId": "bd5de28e-431b-4367-b579-6d74b9f058ab"
      },
      "outputs": [
        {
          "data": {
            "text/plain": [
              "<matplotlib.legend.Legend at 0x7f80f35fabe0>"
            ]
          },
          "execution_count": 23,
          "metadata": {},
          "output_type": "execute_result"
        },
        {
          "data": {
            "image/png": "[encoded data removed]",
            "text/plain": [
              "<Figure size 432x288 with 1 Axes>"
            ]
          },
          "metadata": {},
          "output_type": "display_data"
        }
      ],
      "source": [
        "plt.style.use('ggplot')\n",
        "plt.figure()\n",
        "plt.plot(np.arange(0,100), H.history['loss'], label='train_loss')\n",
        "plt.plot(np.arange(0,100), H.history['val_loss'], label='val_loss')\n",
        "plt.plot(np.arange(0,100), H.history['accuracy'], label='train_accuracy')\n",
        "plt.plot(np.arange(0,100), H.history['val_accuracy'], label='val_accuracy')\n",
        "\n",
        "plt.title(\"Training Loss and Accuracy\")\n",
        "plt.xlabel('Epoch #')\n",
        "plt.ylabel('Loss/Accuracy')\n",
        "plt.legend()"
      ]
    }
  ],
  "metadata": {
    "colab": {
      "provenance": []
    },
    "kernelspec": {
      "display_name": "Python 3.10.8 ('expmlenv')",
      "language": "python",
      "name": "python3"
    },
    "language_info": {
      "codemirror_mode": {
        "name": "ipython",
        "version": 3
      },
      "file_extension": ".py",
      "mimetype": "text/x-python",
      "name": "python",
      "nbconvert_exporter": "python",
      "pygments_lexer": "ipython3",
      "version": "3.10.8 (main, Nov 24 2022, 14:13:03) [GCC 11.2.0]"
    },
    "orig_nbformat": 4,
    "vscode": {
      "interpreter": {
        "hash": "8e551f31eb65be6f81ef744b09e589319bc7597989a590509a727060f7a3aaf1"
      }
    }
  },
  "nbformat": 4,
  "nbformat_minor": 0
}
