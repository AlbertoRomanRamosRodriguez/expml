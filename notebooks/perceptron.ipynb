{
 "cells": [
  {
   "attachments": {},
   "cell_type": "markdown",
   "metadata": {},
   "source": [
    "# Perceptron implementation testing"
   ]
  },
  {
   "cell_type": "code",
   "execution_count": 30,
   "metadata": {},
   "outputs": [],
   "source": [
    "from arch_imp.nn.perceptron import Perceptron\n",
    "import numpy as np"
   ]
  },
  {
   "cell_type": "code",
   "execution_count": 31,
   "metadata": {},
   "outputs": [],
   "source": [
    "def train_network(operation, X, y):\n",
    "    print(f'[INFO] training perceptron for {operation} operation ...')\n",
    "    p = Perceptron(X.shape[1], alpha=0.1)\n",
    "    p.fit(X,y,epochs=20)\n",
    "    print(f'[INFO] finished training for {operation} operation.')\n",
    "\n",
    "    print('[INFO] testing peerceptron...')\n",
    "\n",
    "    for (x,target) in zip(X, y):\n",
    "        pred = p.predict(x)\n",
    "\n",
    "        print(f\"[INFO][{operation}] data = {x}, ground-truth = {target[0]}, pred = {pred}\")"
   ]
  },
  {
   "attachments": {},
   "cell_type": "markdown",
   "metadata": {},
   "source": [
    "## OR operation"
   ]
  },
  {
   "cell_type": "code",
   "execution_count": 32,
   "metadata": {},
   "outputs": [
    {
     "name": "stdout",
     "output_type": "stream",
     "text": [
      "[INFO] training perceptron for OR operation ...\n",
      "[INFO] finished training for OR operation.\n",
      "[INFO] testing peerceptron...\n",
      "[INFO][OR] data = [0 0], ground-truth = 0, pred = 0\n",
      "[INFO][OR] data = [0 1], ground-truth = 1, pred = 1\n",
      "[INFO][OR] data = [1 0], ground-truth = 1, pred = 1\n",
      "[INFO][OR] data = [1 1], ground-truth = 1, pred = 1\n"
     ]
    }
   ],
   "source": [
    "operation  = 'OR'\n",
    "X = np.array([[0,0],[0,1],[1,0],[1,1]])\n",
    "y = np.array([[0],[1],[1],[1]])\n",
    "\n",
    "train_network(operation, X, y)\n"
   ]
  },
  {
   "attachments": {},
   "cell_type": "markdown",
   "metadata": {},
   "source": [
    "## AND operation"
   ]
  },
  {
   "cell_type": "code",
   "execution_count": 33,
   "metadata": {},
   "outputs": [
    {
     "name": "stdout",
     "output_type": "stream",
     "text": [
      "[INFO] training perceptron for AND operation ...\n",
      "[INFO] finished training for AND operation.\n",
      "[INFO] testing peerceptron...\n",
      "[INFO][AND] data = [0 0], ground-truth = 0, pred = 0\n",
      "[INFO][AND] data = [0 1], ground-truth = 0, pred = 0\n",
      "[INFO][AND] data = [1 0], ground-truth = 0, pred = 0\n",
      "[INFO][AND] data = [1 1], ground-truth = 1, pred = 1\n"
     ]
    }
   ],
   "source": [
    "operation = 'AND'\n",
    "X = np.array([[0,0],[0,1],[1,0],[1,1]])\n",
    "y = np.array([[0],[0],[0],[1]])\n",
    "\n",
    "train_network(operation, X, y)\n"
   ]
  },
  {
   "attachments": {},
   "cell_type": "markdown",
   "metadata": {},
   "source": [
    "## XOR operation"
   ]
  },
  {
   "cell_type": "code",
   "execution_count": 34,
   "metadata": {},
   "outputs": [
    {
     "name": "stdout",
     "output_type": "stream",
     "text": [
      "[INFO] training perceptron for XOR operation ...\n",
      "[INFO] finished training for XOR operation.\n",
      "[INFO] testing peerceptron...\n",
      "[INFO][XOR] data = [0 0], ground-truth = 0, pred = 1\n",
      "[INFO][XOR] data = [0 1], ground-truth = 1, pred = 1\n",
      "[INFO][XOR] data = [1 0], ground-truth = 1, pred = 1\n",
      "[INFO][XOR] data = [1 1], ground-truth = 0, pred = 0\n"
     ]
    }
   ],
   "source": [
    "operation = 'XOR'\n",
    "X = np.array([[0,0],[0,1],[1,0],[1,1]])\n",
    "y = np.array([[0],[1],[1],[0]])\n",
    "\n",
    "train_network(operation, X, y)\n"
   ]
  }
 ],
 "metadata": {
  "kernelspec": {
   "display_name": "Python 3.10.8 ('expmlenv')",
   "language": "python",
   "name": "python3"
  },
  "language_info": {
   "codemirror_mode": {
    "name": "ipython",
    "version": 3
   },
   "file_extension": ".py",
   "mimetype": "text/x-python",
   "name": "python",
   "nbconvert_exporter": "python",
   "pygments_lexer": "ipython3",
   "version": "3.10.8"
  },
  "orig_nbformat": 4,
  "vscode": {
   "interpreter": {
    "hash": "8e551f31eb65be6f81ef744b09e589319bc7597989a590509a727060f7a3aaf1"
   }
  }
 },
 "nbformat": 4,
 "nbformat_minor": 2
}
