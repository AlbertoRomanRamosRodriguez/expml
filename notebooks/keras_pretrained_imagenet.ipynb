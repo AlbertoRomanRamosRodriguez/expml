{
 "cells": [
  {
   "attachments": {},
   "cell_type": "markdown",
   "metadata": {},
   "source": [
    "# Keras example of pre-trained networks on ImageNet dataset"
   ]
  },
  {
   "cell_type": "code",
   "execution_count": null,
   "metadata": {},
   "outputs": [],
   "source": [
    "from keras.applications import ResNet50\n",
    "from keras.applications import InceptionV3\n",
    "from keras.applications import Xception\n",
    "from keras.applications import VGG16\n",
    "from keras.applications import VGG19\n",
    "\n",
    "from keras.applications import imagenet_utils\n",
    "from keras.applications.inception_v3 import preprocess_input\n",
    "\n",
    "from tensorflow.keras.preprocessing.image import img_to_array\n",
    "from tensorflow.keras.preprocessing.image import load_img\n",
    "\n",
    "import numpy as np\n",
    "import cv2"
   ]
  },
  {
   "cell_type": "code",
   "execution_count": null,
   "metadata": {},
   "outputs": [],
   "source": [
    "MODELS = {\n",
    "    'vgg16': VGG16,\n",
    "    'vgg19': VGG19,\n",
    "    'inception': InceptionV3,\n",
    "    'xception': Xception,\n",
    "    'resnet': ResNet50\n",
    "}\n",
    "\n",
    "IM_PATH = './kitten-510651.jpg'\n"
   ]
  },
  {
   "cell_type": "code",
   "execution_count": null,
   "metadata": {},
   "outputs": [],
   "source": [
    "for (arch_name, arch) in MODELS.items():\n",
    "    Network = arch\n",
    "    model = Network(weights='imagenet')\n",
    "\n",
    "    inputShape = (224,224)\n",
    "    preprocess = imagenet_utils.preprocess_input\n",
    "\n",
    "    if arch_name in ('inception', 'xception'):\n",
    "        inputShape = (299,299)\n",
    "        preprocess = preprocess_input\n",
    "\n",
    "    display(f\"[INFO] loading and pre-processing image...\")\n",
    "\n",
    "    image = load_img(IM_PATH, inputShape)\n",
    "    image = img_to_array(image)\n",
    "    display(image.shape)\n",
    "\n",
    "    image = np.expand_dims(image, axis = 0)\n",
    "    display(image.shape)\n",
    "\n",
    "    image = preprocess(image)\n",
    "\n",
    "    display(f\"[INFO] classifying with {arch_name}...\")\n",
    "    preds = model.predict(image)\n",
    "    P = imagenet_utils.decode_predictions(preds)\n",
    "\n",
    "    for (i, (imagenetID, label, prob)) in enumerate(P[0]):\n",
    "    print(f'{i+1}. {label}: {prob*100}')\n",
    "\n",
    "    "
   ]
  }
 ],
 "metadata": {
  "kernelspec": {
   "display_name": "expmlenv",
   "language": "python",
   "name": "python3"
  },
  "language_info": {
   "codemirror_mode": {
    "name": "ipython",
    "version": 3
   },
   "file_extension": ".py",
   "mimetype": "text/x-python",
   "name": "python",
   "nbconvert_exporter": "python",
   "pygments_lexer": "ipython3",
   "version": "3.10.8 (main, Nov 24 2022, 14:13:03) [GCC 11.2.0]"
  },
  "orig_nbformat": 4,
  "vscode": {
   "interpreter": {
    "hash": "8e551f31eb65be6f81ef744b09e589319bc7597989a590509a727060f7a3aaf1"
   }
  }
 },
 "nbformat": 4,
 "nbformat_minor": 2
}
